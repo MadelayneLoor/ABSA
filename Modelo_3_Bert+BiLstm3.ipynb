{
  "cells": [
    {
      "cell_type": "markdown",
      "metadata": {
        "id": "view-in-github",
        "colab_type": "text"
      },
      "source": [
        "<a href=\"https://colab.research.google.com/github/MadelayneLoor/ABSA/blob/main/Modelo_3_Bert%2BBiLstm3.ipynb\" target=\"_parent\"><img src=\"https://colab.research.google.com/assets/colab-badge.svg\" alt=\"Open In Colab\"/></a>"
      ]
    },
    {
      "cell_type": "markdown",
      "metadata": {
        "id": "2ZfcuPnQ2Ffx"
      },
      "source": [
        "# ABSA basado en textos de retroalimentacione educativas"
      ]
    },
    {
      "cell_type": "markdown",
      "source": [],
      "metadata": {
        "id": "JkuxXojylVCn"
      }
    },
    {
      "cell_type": "code",
      "execution_count": null,
      "metadata": {
        "id": "IOSy_fyz2Ff1"
      },
      "outputs": [],
      "source": [
        "#pip install numpy\n",
        "#pip install pandas\n",
        "#pip install matplotlib"
      ]
    },
    {
      "cell_type": "code",
      "execution_count": null,
      "metadata": {
        "id": "eITy4oSJ2Ff3"
      },
      "outputs": [],
      "source": [
        "import numpy as np\n",
        "import os\n",
        "import torch\n",
        "from torch.utils.data import Dataset, DataLoader\n",
        "from sklearn.model_selection import train_test_split\n",
        "from sklearn.metrics import accuracy_score, precision_score, recall_score, f1_score, classification_report\n",
        "import torch.nn as nn\n",
        "from transformers import BertTokenizer, BertModel, BertForSequenceClassification, AdamW, get_linear_schedule_with_warmup, get_scheduler\n",
        "from tqdm import tqdm\n",
        "import pandas as pd\n",
        "import matplotlib.pyplot as plt\n",
        "from wordcloud import WordCloud\n",
        "import tensorflow as tf\n"
      ]
    },
    {
      "cell_type": "code",
      "execution_count": null,
      "metadata": {
        "id": "IZZfD05U2Ff4",
        "colab": {
          "base_uri": "https://localhost:8080/"
        },
        "outputId": "bc89adef-5858-445d-dfc6-7b0cf8ad4e0d"
      },
      "outputs": [
        {
          "output_type": "stream",
          "name": "stdout",
          "text": [
            "Cloning into 'ABSA_Tesis'...\n",
            "remote: Enumerating objects: 23, done.\u001b[K\n",
            "remote: Counting objects: 100% (23/23), done.\u001b[K\n",
            "remote: Compressing objects: 100% (19/19), done.\u001b[K\n",
            "remote: Total 23 (delta 3), reused 0 (delta 0), pack-reused 0 (from 0)\u001b[K\n",
            "Receiving objects: 100% (23/23), 523.02 KiB | 1.90 MiB/s, done.\n",
            "Resolving deltas: 100% (3/3), done.\n",
            "Primeras filas del dataset:\n",
            "                                          Comentario     Aspecto  Polaridad\n",
            "0               la caratula sin errores ortograficos    caratula          2\n",
            "1  la estructura del documento se visualiza corre...  estructura          1\n",
            "2  no existen herencias la relacion entre los cas...   herencias          0\n",
            "3  al existir tantos errores en el procedimientos...     errores          0\n",
            "4               la caratula sin errores ortograficos    caratula          2\n"
          ]
        }
      ],
      "source": [
        "# Clonar el repositorio y cargar el dataset\n",
        "!git clone https://github.com/MadelayneLoor/ABSA_Tesis.git\n",
        "dataset_path = \"./ABSA_Tesis/datasetABSA.csv\"\n",
        "\n",
        "# Verificar si el dataset existe antes de continuar\n",
        "if os.path.exists(dataset_path):\n",
        "    # Leer el dataset\n",
        "    data = pd.read_csv(dataset_path)\n",
        "    # Extraer columnas necesarias\n",
        "    sentences = data['Comentario'].tolist()  # Columna 'Comentario'\n",
        "    aspects = data['Aspecto'].tolist()       # Columna 'Aspecto'\n",
        "    polarities = data['Polaridad'].tolist()  # Columna 'Polaridad'\n",
        "    # Revisar las primeras filas\n",
        "    print(\"Primeras filas del dataset:\")\n",
        "    print(data.head())\n",
        "else:\n",
        "    raise FileNotFoundError(f\"El archivo {dataset_path} no fue encontrado. Por favor, verifica la ruta o si el repositorio contiene el archivo.\")"
      ]
    },
    {
      "cell_type": "code",
      "execution_count": null,
      "metadata": {
        "id": "LTogDki42Ff5",
        "colab": {
          "base_uri": "https://localhost:8080/"
        },
        "outputId": "935a5ca4-1f31-4294-cc32-1ebd71584709"
      },
      "outputs": [
        {
          "output_type": "execute_result",
          "data": {
            "text/plain": [
              "(4253, 3)"
            ]
          },
          "metadata": {},
          "execution_count": 4
        }
      ],
      "source": [
        "data.shape"
      ]
    },
    {
      "cell_type": "code",
      "execution_count": null,
      "metadata": {
        "id": "I8ZNt-fB2Ff7",
        "colab": {
          "base_uri": "https://localhost:8080/",
          "height": 488
        },
        "outputId": "2440e3bd-019e-43cb-9936-42c5dde4da5d"
      },
      "outputs": [
        {
          "output_type": "display_data",
          "data": {
            "text/plain": [
              "<Figure size 800x500 with 1 Axes>"
            ],
            "image/png": "[encoded data removed]"
          },
          "metadata": {}
        }
      ],
      "source": [
        "labels = ['Negativo (0)', 'Neutral (1)', 'Positivo (2)']\n",
        "polarity_counts = data['Polaridad'].value_counts().sort_index()\n",
        "polarity_counts_sorted = polarity_counts.sort_index()\n",
        "adjusted_labels = [f'{label} ({count})' for label, count in zip(labels[:len(polarity_counts_sorted)], polarity_counts_sorted)]\n",
        "\n",
        "plt.figure(figsize=(8, 5))\n",
        "plt.bar(adjusted_labels, polarity_counts_sorted, color=['red', 'gray', 'green'] [:len(polarity_counts_sorted)])\n",
        "\n",
        "plt.title('Análisis de la polaridad de los comentarios')\n",
        "plt.xlabel('Polaridad')\n",
        "plt.ylabel('Freciencia')\n",
        "plt.show()\n"
      ]
    },
    {
      "cell_type": "code",
      "execution_count": null,
      "metadata": {
        "id": "dM4atZvd2Ff8",
        "colab": {
          "base_uri": "https://localhost:8080/",
          "height": 598
        },
        "outputId": "98e90f2a-97fc-4295-f8ba-74ac926bde0e"
      },
      "outputs": [
        {
          "output_type": "display_data",
          "data": {
            "text/plain": [
              "<Figure size 1000x700 with 1 Axes>"
            ],
            "image/png": "[encoded data removed]"
          },
          "metadata": {}
        }
      ],
      "source": [
        "aspectt_text = \" \".join(data['Aspecto'])\n",
        "wordcloud = WordCloud(width=800, height=800, background_color=\"white\").generate(aspectt_text)\n",
        "\n",
        "plt.figure(figsize=(10, 7))\n",
        "plt.imshow(wordcloud, interpolation='bilinear')\n",
        "plt.axis(\"off\")\n",
        "plt.title(\"WordCloud de las aspectos\")\n",
        "plt.show()"
      ]
    },
    {
      "cell_type": "markdown",
      "metadata": {
        "id": "RYUqPFXM2Ff9"
      },
      "source": [
        "\n",
        "## Procesamiento de data"
      ]
    },
    {
      "cell_type": "code",
      "execution_count": null,
      "metadata": {
        "id": "TirP4yrD2Ff9"
      },
      "outputs": [],
      "source": [
        "data['Comentario'] = data.apply(lambda row: f\"[CLS] {row['Comentario']} [SEP] {row['Aspecto']} [SEP]\", axis=1)"
      ]
    },
    {
      "cell_type": "markdown",
      "metadata": {
        "id": "OxKAORkp2Ff-"
      },
      "source": [
        "## Entrenamiendo del modelo"
      ]
    },
    {
      "cell_type": "code",
      "execution_count": null,
      "metadata": {
        "id": "GH2N89E-2Ff-",
        "colab": {
          "base_uri": "https://localhost:8080/"
        },
        "outputId": "e1798c31-651b-444d-f5ee-2a8079419dbf"
      },
      "outputs": [
        {
          "output_type": "stream",
          "name": "stdout",
          "text": [
            "Num GPUs Available:  1\n"
          ]
        }
      ],
      "source": [
        "print(\"Num GPUs Available: \", len(tf.config.list_physical_devices('GPU')))\n"
      ]
    },
    {
      "cell_type": "code",
      "source": [
        "class BertLSTMClassifier(nn.Module):\n",
        "    def __init__(self, bert_model_name, hidden_dim, num_labels):\n",
        "        super(BertLSTMClassifier, self).__init__()\n",
        "\n",
        "        # Cargar el modelo BERT preentrenado\n",
        "        self.bert = BertModel.from_pretrained(bert_model_name)\n",
        "        self.hidden_dim = hidden_dim\n",
        "        self.num_labels = num_labels\n",
        "\n",
        "        # Capa LSTM bidireccional\n",
        "        self.lstm = nn.LSTM(\n",
        "            input_size=self.bert.config.hidden_size,\n",
        "            hidden_size=hidden_dim,\n",
        "            batch_first=True,\n",
        "            bidirectional=True\n",
        "        )\n",
        "\n",
        "        # Capa totalmente conectada para clasificación\n",
        "        self.fc = nn.Linear(hidden_dim * 2, num_labels)  # *2 debido a bidireccional\n",
        "\n",
        "    def forward(self, input_ids, attention_mask):\n",
        "        # Pasar los datos a través de BERT\n",
        "        outputs = self.bert(input_ids=input_ids, attention_mask=attention_mask)\n",
        "\n",
        "        # Extraer los embeddings ocultos\n",
        "        hidden_states = outputs.last_hidden_state  # (batch_size, seq_len, hidden_size)\n",
        "\n",
        "        # Pasar los embeddings por la LSTM\n",
        "        lstm_out, _ = self.lstm(hidden_states)  # (batch_size, seq_len, hidden_dim*2)\n",
        "\n",
        "        # Usar la representación de la primera posición (CLS) tras la LSTM\n",
        "        cls_representation = lstm_out[:, 0, :]  # (batch_size, hidden_dim*2)\n",
        "\n",
        "        # Pasar por la capa de clasificación\n",
        "        logits = self.fc(cls_representation)  # (batch_size, num_labels)\n",
        "\n",
        "        return logits"
      ],
      "metadata": {
        "id": "ADMlC_K9hrWK"
      },
      "execution_count": null,
      "outputs": []
    },
    {
      "cell_type": "code",
      "execution_count": null,
      "metadata": {
        "id": "lqdk19TT2Ff_",
        "colab": {
          "base_uri": "https://localhost:8080/",
          "height": 281,
          "referenced_widgets": [
            "f5b49751c1b0406291f54bdbcb2ad879",
            "38b942efc620415ba9c73d9a05c4bbdc",
            "ec003cf372d240248506851120a9493d",
            "e09e7d5388804352b25c0d893165ade4",
            "2f7515787d634ac29cc7a2523e390509",
            "ae2cd0e090344c23a09fc0d0f687645d",
            "5a5d006b9337484ca4ea0d4fa82a89e2",
            "7d3e8a9b5e5c4a7db59cb42abf9c0277",
            "ec4300cbf78e43c0857587a197bea5b2",
            "3e6386a3b87345c1b5d8500e6b1d0c30",
            "46759a8288a04ffaa28d8a30c9942fcf",
            "f5c54f94b5d046fdbbff90286aa9d650",
            "bee1e9f210a4429f8f2cd8dae6fbecc3",
            "b6efbdb4a3fd4d2999b34f6100b175e9",
            "00f274686685494ba19a994c0cf1ab73",
            "46993e1a0c4d4573a5d853fb28631f05",
            "37ca4872b906438da73606b178fb70ee",
            "9a6ea996fe00448cb3be303638e4cdec",
            "c7c8bad575234eb6ad627b9b731a0dce",
            "9d1878abdfb14a898267c8f22683d9e8",
            "f4023e9fd9e24ee2bb0d971b939ac8fa",
            "67ba0c195e6f4a99aa78120e4795eca3",
            "482fe31e97e147a29be4e11fe2881ef6",
            "688478cdb03244b9a2bb5c09515fce09",
            "6e9d3e873d154f91b1e64668d87aa894",
            "f30afd026cae4e0f98a7b5a2f5a5a87c",
            "9ba7467b0a4548a4be7f311f022c6bc7",
            "0985a9f9f42f4e4f8d9b6fa56f50b9ba",
            "fa80c6e758ee476fb4a7c087ceab71b7",
            "a0dc6a6c667c4aa9b60953cecb3fb643",
            "cc4f90377fdd4a5bbdd9cd627a221be9",
            "35c7908d49c64291bbd8511559f6d745",
            "c4993be7453c4c50bb6be0ab2b2ac80c",
            "501d1f823f614cc18e0153f2ac057378",
            "b72e5b857ca44d0db230da4f1df2f1e7",
            "e7cd9ba6678d43e792e742bdd00df3c3",
            "5c00b19233674b59ba5c32fc9896067a",
            "d334e3feeb464172adc0fc841d56207c",
            "b8ec1473f34845f0a9db4487eec58041",
            "d8e8c1ab6c3e4f5fbf9f1025da6024c5",
            "bdec7181a33648f9b2d215ba34f02798",
            "b4fb676e22974101947d74892c68e445",
            "59371928bd1b46a5a657d534484d90b5",
            "8203ed01cb514330b4489d2b716172cb",
            "3234253d51924341b4b1863512fa7ec4",
            "aec24cade87b4920a410b529fc00b1a1",
            "2785dded5a91440fafd0d6cda97c99fa",
            "6f2e72775f774d3d99ba0bcc8b5801c0",
            "876d3313e7a647dca1063cfaac255759",
            "5782060f13f4424a943c45d6f6db20fb",
            "9491897c7b344a4e9aaf5fa072a20984",
            "bf8958a9c4e5459ea4f4c1369ed353f3",
            "a33e87868f744827baf8ec600f279da4",
            "a88d4b85fa7d4cc38e276243347e8cfa",
            "45342177bdaf4758b91eca810db95ba0"
          ]
        },
        "outputId": "eabfddf5-bc9c-406e-db38-a5495a46a520"
      },
      "outputs": [
        {
          "output_type": "stream",
          "name": "stderr",
          "text": [
            "/usr/local/lib/python3.11/dist-packages/huggingface_hub/utils/_auth.py:94: UserWarning: \n",
            "The secret `HF_TOKEN` does not exist in your Colab secrets.\n",
            "To authenticate with the Hugging Face Hub, create a token in your settings tab (https://huggingface.co/settings/tokens), set it as secret in your Google Colab and restart your session.\n",
            "You will be able to reuse this secret in all of your notebooks.\n",
            "Please note that authentication is recommended but still optional to access public models or datasets.\n",
            "  warnings.warn(\n"
          ]
        },
        {
          "output_type": "display_data",
          "data": {
            "text/plain": [
              "tokenizer_config.json:   0%|          | 0.00/310 [00:00<?, ?B/s]"
            ],
            "application/vnd.jupyter.widget-view+json": {
              "version_major": 2,
              "version_minor": 0,
              "model_id": "f5b49751c1b0406291f54bdbcb2ad879"
            }
          },
          "metadata": {}
        },
        {
          "output_type": "display_data",
          "data": {
            "text/plain": [
              "vocab.txt:   0%|          | 0.00/248k [00:00<?, ?B/s]"
            ],
            "application/vnd.jupyter.widget-view+json": {
              "version_major": 2,
              "version_minor": 0,
              "model_id": "f5c54f94b5d046fdbbff90286aa9d650"
            }
          },
          "metadata": {}
        },
        {
          "output_type": "display_data",
          "data": {
            "text/plain": [
              "special_tokens_map.json:   0%|          | 0.00/134 [00:00<?, ?B/s]"
            ],
            "application/vnd.jupyter.widget-view+json": {
              "version_major": 2,
              "version_minor": 0,
              "model_id": "482fe31e97e147a29be4e11fe2881ef6"
            }
          },
          "metadata": {}
        },
        {
          "output_type": "display_data",
          "data": {
            "text/plain": [
              "tokenizer.json:   0%|          | 0.00/486k [00:00<?, ?B/s]"
            ],
            "application/vnd.jupyter.widget-view+json": {
              "version_major": 2,
              "version_minor": 0,
              "model_id": "501d1f823f614cc18e0153f2ac057378"
            }
          },
          "metadata": {}
        },
        {
          "output_type": "display_data",
          "data": {
            "text/plain": [
              "config.json:   0%|          | 0.00/650 [00:00<?, ?B/s]"
            ],
            "application/vnd.jupyter.widget-view+json": {
              "version_major": 2,
              "version_minor": 0,
              "model_id": "3234253d51924341b4b1863512fa7ec4"
            }
          },
          "metadata": {}
        }
      ],
      "source": [
        "# Cargar el tokenizador de BERT en español\n",
        "tokenizer = BertTokenizer.from_pretrained(\"dccuchile/bert-base-spanish-wwm-uncased\")\n"
      ]
    },
    {
      "cell_type": "code",
      "source": [
        "class SentimentDataset(Dataset):\n",
        "    def __init__(self, dataframe, tokenizer, max_len):\n",
        "        self.dataframe = dataframe  # DataFrame con los datos\n",
        "        self.tokenizer = tokenizer  # Tokenizador BERT\n",
        "        self.max_len = max_len  # Longitud máxima de secuencia\n",
        "\n",
        "    def __len__(self):\n",
        "        return len(self.dataframe)  # Número total de muestras en el dataset\n",
        "\n",
        "    def __getitem__(self, index):\n",
        "        row = self.dataframe.iloc[index]  # Obtener la fila correspondiente\n",
        "        sentence = row[\"Comentario\"]  # Extraer el comentario\n",
        "        label = row[\"Polaridad\"]  # Extraer la etiqueta de polaridad\n",
        "\n",
        "        # Tokenizar la oración\n",
        "        encoding = self.tokenizer(\n",
        "            sentence,\n",
        "            max_length=self.max_len,\n",
        "            padding=\"max_length\",  # Rellenar hasta max_len\n",
        "            truncation=True,  # Truncar si excede max_len\n",
        "            return_tensors=\"pt\",  # Devolver tensores de PyTorch\n",
        "        )\n",
        "\n",
        "        return {\n",
        "            \"input_ids\": encoding[\"input_ids\"].squeeze(0),  # Tensor de IDs de entrada\n",
        "            \"attention_mask\": encoding[\"attention_mask\"].squeeze(0),  # Máscara de atención\n",
        "            \"label\": torch.tensor(label, dtype=torch.long),  # Etiqueta de salida como tensor\n",
        "        }\n"
      ],
      "metadata": {
        "id": "jckY6s0SDKjL"
      },
      "execution_count": null,
      "outputs": []
    },
    {
      "cell_type": "code",
      "source": [
        "max_len = 256\n",
        "# Proporciones para las divisiones\n",
        "train_size = 0.7\n",
        "val_size = 0.15\n",
        "test_size = 0.15\n",
        "\n",
        "# Dividir el dataset en entrenamiento y prueba inicialmente\n",
        "train_data, test_data = train_test_split(data, test_size=(1 - train_size), random_state=42)\n",
        "\n",
        "# Ajustar la proporción para dividir entre validación y prueba\n",
        "val_data, test_data = train_test_split(test_data, test_size=(test_size / (val_size + test_size)), random_state=42)\n",
        "\n",
        "# Crear los datasets\n",
        "train_dataset = SentimentDataset(train_data, tokenizer, max_len)\n",
        "val_dataset = SentimentDataset(val_data, tokenizer, max_len)\n",
        "test_dataset = SentimentDataset(test_data, tokenizer, max_len)\n",
        "\n",
        "# Crear los DataLoaders\n",
        "train_dataloader = DataLoader(train_dataset, batch_size=16, shuffle=True)\n",
        "val_dataloader = DataLoader(val_dataset, batch_size=8)\n",
        "test_dataloader = DataLoader(test_dataset, batch_size=8)\n"
      ],
      "metadata": {
        "id": "e1i4zADiyljn"
      },
      "execution_count": null,
      "outputs": []
    },
    {
      "cell_type": "code",
      "execution_count": null,
      "metadata": {
        "id": "_N8cN7jh2Ff_"
      },
      "outputs": [],
      "source": [
        "# Configuración del dispositivo\n",
        "device = torch.device(\"cuda\" if torch.cuda.is_available() else \"cpu\")\n"
      ]
    },
    {
      "cell_type": "code",
      "execution_count": null,
      "metadata": {
        "id": "6ZrHpH4Y2Ff_"
      },
      "outputs": [],
      "source": [
        "# Configuraciones del modelo\n",
        "bert_model_name = \"dccuchile/bert-base-spanish-wwm-uncased\"\n",
        "hidden_dim = 128\n",
        "num_labels = 3"
      ]
    },
    {
      "cell_type": "code",
      "source": [
        "# Instanciar el modelo y moverlo al dispositivo adecuado\n",
        "model = BertLSTMClassifier(bert_model_name, hidden_dim, num_labels)\n",
        "model.to(device)\n",
        "\n",
        "# Configuración del optimizador y scheduler\n",
        "optimizer = AdamW(model.parameters(), lr=2e-5, weight_decay=0.005)\n",
        "num_training_steps = len(train_dataloader) * 3  # Número de épocas\n",
        "lr_scheduler = get_scheduler(\n",
        "    \"linear\",\n",
        "    optimizer=optimizer,\n",
        "    num_warmup_steps=int(0.1 * num_training_steps),\n",
        "    num_training_steps=num_training_steps,\n",
        ")\n"
      ],
      "metadata": {
        "colab": {
          "base_uri": "https://localhost:8080/",
          "height": 138,
          "referenced_widgets": [
            "d690c38d587745d1ad3cdf3c99dd63c1",
            "c06da9198e7e4ef982e0e495f466e738",
            "07077ed8c85a4f919cc19e070626adcd",
            "57945213249c4b4fb63054861b236129",
            "623dbeee018d47eea50a034032ade16c",
            "1a70f7e8b90440298df3d7cbefd502ce",
            "2a0bf21c749e4be3be65a0619ccd1f5d",
            "d845ffe7b6014258af1ed49d81c6e734",
            "8dc405b1420642f2a7658af56c301804",
            "b8ed882733e548cd932c9741cef12240",
            "28694c24783f4293a093e843aeb471c5"
          ]
        },
        "id": "ZjeFua5Szt1Z",
        "outputId": "b29d1fe7-f9df-4a00-9580-b98389d98392"
      },
      "execution_count": null,
      "outputs": [
        {
          "output_type": "display_data",
          "data": {
            "text/plain": [
              "pytorch_model.bin:   0%|          | 0.00/440M [00:00<?, ?B/s]"
            ],
            "application/vnd.jupyter.widget-view+json": {
              "version_major": 2,
              "version_minor": 0,
              "model_id": "d690c38d587745d1ad3cdf3c99dd63c1"
            }
          },
          "metadata": {}
        },
        {
          "output_type": "stream",
          "name": "stderr",
          "text": [
            "Some weights of BertModel were not initialized from the model checkpoint at dccuchile/bert-base-spanish-wwm-uncased and are newly initialized: ['bert.pooler.dense.bias', 'bert.pooler.dense.weight']\n",
            "You should probably TRAIN this model on a down-stream task to be able to use it for predictions and inference.\n",
            "/usr/local/lib/python3.11/dist-packages/transformers/optimization.py:591: FutureWarning: This implementation of AdamW is deprecated and will be removed in a future version. Use the PyTorch implementation torch.optim.AdamW instead, or set `no_deprecation_warning=True` to disable this warning\n",
            "  warnings.warn(\n"
          ]
        }
      ]
    },
    {
      "cell_type": "code",
      "execution_count": null,
      "metadata": {
        "id": "D5vPmA_F2FgA"
      },
      "outputs": [],
      "source": [
        "def train_one_epoch(model, data_loader, optimizer, device, scheduler=None):\n",
        "    model.train()\n",
        "    total_loss = 0\n",
        "\n",
        "    for batch in tqdm(data_loader, desc=\"Training\"):\n",
        "        input_ids = batch[\"input_ids\"].to(device)\n",
        "        attention_mask = batch[\"attention_mask\"].to(device)\n",
        "        labels = batch[\"label\"].to(device)\n",
        "\n",
        "        logits = model(input_ids, attention_mask)\n",
        "        loss = nn.CrossEntropyLoss()(logits, labels)\n",
        "        loss = nn.CrossEntropyLoss()(logits, labels)\n",
        "        total_loss += loss.item()\n",
        "\n",
        "        optimizer.zero_grad()\n",
        "        loss.backward()\n",
        "        optimizer.step()\n",
        "        if scheduler:\n",
        "            scheduler.step()\n",
        "\n",
        "    avg_loss = total_loss / len(data_loader)\n",
        "    return avg_loss"
      ]
    },
    {
      "cell_type": "code",
      "execution_count": null,
      "metadata": {
        "id": "c8wfcKn32FgA"
      },
      "outputs": [],
      "source": [
        "def evaluate(model, data_loader, device):\n",
        "    model.eval()\n",
        "    total_loss = 0\n",
        "\n",
        "    with torch.no_grad():\n",
        "        for batch in tqdm(data_loader, desc=\"Evaluation\"):\n",
        "            input_ids = batch[\"input_ids\"].to(device)\n",
        "            attention_mask = batch[\"attention_mask\"].to(device)\n",
        "            labels = batch[\"label\"].to(device)\n",
        "            logits = model(input_ids=input_ids, attention_mask=attention_mask)\n",
        "            loss_fn = nn.CrossEntropyLoss()  # Define la función de pérdida\n",
        "            loss = loss_fn(logits, labels)  # Calcula la pérdida\n",
        "            total_loss += loss.item()\n",
        "\n",
        "    avg_loss = total_loss / len(data_loader)\n",
        "    return avg_loss"
      ]
    },
    {
      "cell_type": "code",
      "source": [
        "!pip install nvidia-ml-py3"
      ],
      "metadata": {
        "colab": {
          "base_uri": "https://localhost:8080/"
        },
        "id": "kaggiYW31uuH",
        "outputId": "9ee73de0-bbf9-47d2-d168-db511a4fdeea"
      },
      "execution_count": null,
      "outputs": [
        {
          "output_type": "stream",
          "name": "stdout",
          "text": [
            "Collecting nvidia-ml-py3\n",
            "  Downloading nvidia-ml-py3-7.352.0.tar.gz (19 kB)\n",
            "  Preparing metadata (setup.py) ... \u001b[?25l\u001b[?25hdone\n",
            "Building wheels for collected packages: nvidia-ml-py3\n",
            "  Building wheel for nvidia-ml-py3 (setup.py) ... \u001b[?25l\u001b[?25hdone\n",
            "  Created wheel for nvidia-ml-py3: filename=nvidia_ml_py3-7.352.0-py3-none-any.whl size=19173 sha256=bd0b439100e1314ff079ddbe2edcad538bfbd127c55f2624dece78d0b18c3162\n",
            "  Stored in directory: /root/.cache/pip/wheels/47/50/9e/29dc79037d74c3c1bb4a8661fb608e8674b7e4260d6a3f8f51\n",
            "Successfully built nvidia-ml-py3\n",
            "Installing collected packages: nvidia-ml-py3\n",
            "Successfully installed nvidia-ml-py3-7.352.0\n"
          ]
        }
      ]
    },
    {
      "cell_type": "markdown",
      "metadata": {
        "id": "TXsKvV5M2FgA"
      },
      "source": [
        "## Entrenamiendo del modelo con 5 epocas\n"
      ]
    },
    {
      "cell_type": "code",
      "execution_count": null,
      "metadata": {
        "id": "5bP6WxM52FgA",
        "colab": {
          "base_uri": "https://localhost:8080/"
        },
        "outputId": "d321871a-e833-4530-dfbe-2a99249e65b1"
      },
      "outputs": [
        {
          "output_type": "stream",
          "name": "stdout",
          "text": [
            "Epoch 1/5\n"
          ]
        },
        {
          "output_type": "stream",
          "name": "stderr",
          "text": [
            "Training: 100%|██████████| 187/187 [02:12<00:00,  1.41it/s]\n",
            "Evaluation: 100%|██████████| 80/80 [00:09<00:00,  8.03it/s]\n"
          ]
        },
        {
          "output_type": "stream",
          "name": "stdout",
          "text": [
            "Training Loss: 0.4746, Validation Loss: 0.2382\n",
            "Epoch 2/5\n"
          ]
        },
        {
          "output_type": "stream",
          "name": "stderr",
          "text": [
            "Training: 100%|██████████| 187/187 [02:07<00:00,  1.46it/s]\n",
            "Evaluation: 100%|██████████| 80/80 [00:09<00:00,  8.34it/s]\n"
          ]
        },
        {
          "output_type": "stream",
          "name": "stdout",
          "text": [
            "Training Loss: 0.1525, Validation Loss: 0.1675\n",
            "Epoch 3/5\n"
          ]
        },
        {
          "output_type": "stream",
          "name": "stderr",
          "text": [
            "Training: 100%|██████████| 187/187 [02:07<00:00,  1.46it/s]\n",
            "Evaluation: 100%|██████████| 80/80 [00:09<00:00,  8.38it/s]\n"
          ]
        },
        {
          "output_type": "stream",
          "name": "stdout",
          "text": [
            "Training Loss: 0.0823, Validation Loss: 0.1695\n",
            "Epoch 4/5\n"
          ]
        },
        {
          "output_type": "stream",
          "name": "stderr",
          "text": [
            "Training: 100%|██████████| 187/187 [02:07<00:00,  1.46it/s]\n",
            "Evaluation: 100%|██████████| 80/80 [00:09<00:00,  8.32it/s]\n"
          ]
        },
        {
          "output_type": "stream",
          "name": "stdout",
          "text": [
            "Training Loss: 0.0622, Validation Loss: 0.1695\n",
            "Epoch 5/5\n"
          ]
        },
        {
          "output_type": "stream",
          "name": "stderr",
          "text": [
            "Training: 100%|██████████| 187/187 [02:07<00:00,  1.47it/s]\n",
            "Evaluation: 100%|██████████| 80/80 [00:09<00:00,  8.36it/s]"
          ]
        },
        {
          "output_type": "stream",
          "name": "stdout",
          "text": [
            "Training Loss: 0.0637, Validation Loss: 0.1695\n",
            "\n",
            "--- Estadísticas Finales del Entrenamiento ---\n",
            "Tiempo total de entrenamiento: 691.92 segundos (11.53 minutos)\n",
            "Uso promedio de CPU: 73.12%\n",
            "Memoria RAM promedio utilizada: 2.68 GB\n",
            "Uso promedio de GPU: 89.20%\n",
            "Memoria GPU promedio utilizada: 4.83 GB\n"
          ]
        },
        {
          "output_type": "stream",
          "name": "stderr",
          "text": [
            "\n"
          ]
        }
      ],
      "source": [
        "import time\n",
        "import torch\n",
        "import psutil\n",
        "from pynvml import nvmlInit, nvmlDeviceGetHandleByIndex, nvmlDeviceGetMemoryInfo, nvmlDeviceGetUtilizationRates\n",
        "\n",
        "nvmlInit()\n",
        "gpu_handle = nvmlDeviceGetHandleByIndex(0)\n",
        "\n",
        "# Listas para almacenar métricas\n",
        "train_losses = []\n",
        "val_losses = []\n",
        "cpu_usages = []\n",
        "ram_usages = []  # Guardaremos valores absolutos de RAM\n",
        "gpu_usages = []\n",
        "gpu_memories = []\n",
        "\n",
        "epochs = 5\n",
        "start_time = time.time()\n",
        "\n",
        "for epoch in range(epochs):\n",
        "    print(f\"Epoch {epoch + 1}/{epochs}\")\n",
        "\n",
        "    # Capturar métricas antes de la época\n",
        "    cpu_start = psutil.cpu_percent(interval=None)\n",
        "    ram_start = psutil.virtual_memory().used / (1024 ** 3)  # RAM en GB\n",
        "\n",
        "    train_loss = train_one_epoch(model, train_dataloader, optimizer, device, lr_scheduler)\n",
        "    val_loss = evaluate(model, val_dataloader, device)\n",
        "\n",
        "    # Capturar métricas después de la época\n",
        "    cpu_end = psutil.cpu_percent(interval=None)\n",
        "    ram_end = psutil.virtual_memory().used / (1024 ** 3)\n",
        "\n",
        "    # Calcular valores absolutos\n",
        "    cpu_usage = (cpu_start + cpu_end) / 2\n",
        "    ram_used = ram_end  # Ahora guardamos el valor absoluto\n",
        "    gpu_info = nvmlDeviceGetMemoryInfo(gpu_handle)\n",
        "    gpu_utilization = nvmlDeviceGetUtilizationRates(gpu_handle)\n",
        "\n",
        "    gpu_memory = gpu_info.used / (1024 ** 3)\n",
        "    gpu_usage = gpu_utilization.gpu\n",
        "\n",
        "    # Almacenar métricas\n",
        "    train_losses.append(train_loss)\n",
        "    val_losses.append(val_loss)\n",
        "    cpu_usages.append(cpu_usage)\n",
        "    ram_usages.append(ram_used)  # Guardamos el uso absoluto\n",
        "    gpu_usages.append(gpu_usage)\n",
        "    gpu_memories.append(gpu_memory)\n",
        "\n",
        "    print(f\"Training Loss: {train_loss:.4f}, Validation Loss: {val_loss:.4f}\")\n",
        "\n",
        "# Métricas finales\n",
        "end_time = time.time()\n",
        "total_time = end_time - start_time\n",
        "avg_cpu = sum(cpu_usages) / len(cpu_usages)\n",
        "avg_ram = sum(ram_usages) / len(ram_usages)  # Ahora es un promedio real\n",
        "avg_gpu = sum(gpu_usages) / len(gpu_usages)\n",
        "avg_gpu_memory = sum(gpu_memories) / len(gpu_memories)\n",
        "\n",
        "print(\"\\n--- Estadísticas Finales del Entrenamiento ---\")\n",
        "print(f\"Tiempo total de entrenamiento: {total_time:.2f} segundos ({total_time / 60:.2f} minutos)\")\n",
        "print(f\"Uso promedio de CPU: {avg_cpu:.2f}%\")\n",
        "print(f\"Memoria RAM promedio utilizada: {avg_ram:.2f} GB\")\n",
        "print(f\"Uso promedio de GPU: {avg_gpu:.2f}%\")\n",
        "print(f\"Memoria GPU promedio utilizada: {avg_gpu_memory:.2f} GB\")\n"
      ]
    },
    {
      "cell_type": "markdown",
      "metadata": {
        "id": "PgmGP-dk2FgB"
      },
      "source": []
    },
    {
      "cell_type": "code",
      "source": [
        "import seaborn as sns\n",
        "\n",
        "# Configurar estilo de Seaborn para fondo oscuro\n",
        "sns.set(style=\"darkgrid\")\n",
        "\n",
        "# Graficar las pérdidas con líneas y marcadores\n",
        "plt.figure(figsize=(10, 6))\n",
        "plt.plot(range(1, epochs + 1), train_losses, label='Training Loss', marker='o', color='red', linestyle='-', linewidth=2)\n",
        "plt.plot(range(1, epochs + 1), val_losses, label='Validation Loss', marker='o', color='green', linestyle='-', linewidth=2)\n",
        "\n",
        "# Personalizar la gráfica\n",
        "plt.title('Training and Validation Loss per Epoch', fontsize=14, color='white')\n",
        "plt.xlabel('Epoch', fontsize=12, color='black')\n",
        "plt.ylabel('Loss', fontsize=12, color='black')\n",
        "plt.xticks(range(1, epochs + 1), color='black')  # Etiquetas de las épocas en el eje X\n",
        "plt.yticks(color='black')  # Etiquetas del eje Y\n",
        "plt.grid(True, linestyle='--', alpha=0.6)\n",
        "plt.legend(title='Type', fontsize=10, title_fontsize=12, loc='upper right')\n",
        "\n",
        "# Cambiar fondo de la gráfica a oscuro\n",
        "plt.show()\n"
      ],
      "metadata": {
        "colab": {
          "base_uri": "https://localhost:8080/",
          "height": 574
        },
        "id": "dv-8D2PBc4CF",
        "outputId": "3afeec37-eb4e-410b-c22a-3422b527f2a4"
      },
      "execution_count": null,
      "outputs": [
        {
          "output_type": "display_data",
          "data": {
            "text/plain": [
              "<Figure size 1000x600 with 1 Axes>"
            ],
            "image/png": "[encoded data removed]"
          },
          "metadata": {}
        }
      ]
    },
    {
      "cell_type": "markdown",
      "metadata": {
        "id": "ICLGNZhv2FgB"
      },
      "source": [
        "## Guardar el modelo"
      ]
    },
    {
      "cell_type": "code",
      "execution_count": null,
      "metadata": {
        "colab": {
          "base_uri": "https://localhost:8080/"
        },
        "id": "xIpHNVJ32FgB",
        "outputId": "6ee8307a-1252-4ff0-b841-6cdf9a5c74e6"
      },
      "outputs": [
        {
          "output_type": "stream",
          "name": "stdout",
          "text": [
            "Pesos del modelo guardados en ABSA_Bert+Lstm/model_weights.pth\n",
            "Modelo Tokenizado 'ABSA_Bert+Lstm' guardado!!!\n"
          ]
        }
      ],
      "source": [
        "save_directory = \"ABSA_Bert+Lstm\"\n",
        "os.makedirs(save_directory, exist_ok=True)\n",
        "\n",
        "# Guarda los pesos del modelo\n",
        "torch.save(model.state_dict(), f\"{save_directory}/model_weights.pth\")\n",
        "\n",
        "print(f\"Pesos del modelo guardados en {save_directory}/model_weights.pth\")\n",
        "tokenizer.save_pretrained(save_directory)\n",
        "print(f\"Modelo Tokenizado '{save_directory}' guardado!!!\")"
      ]
    },
    {
      "cell_type": "markdown",
      "metadata": {
        "id": "0heTRfAv2FgB"
      },
      "source": [
        "## Proceso de prueba"
      ]
    },
    {
      "cell_type": "code",
      "execution_count": null,
      "metadata": {
        "colab": {
          "base_uri": "https://localhost:8080/"
        },
        "id": "9AZRD1FV2FgB",
        "outputId": "8e81cb91-b7d8-4846-ed46-98b981b99ab7"
      },
      "outputs": [
        {
          "output_type": "stream",
          "name": "stdout",
          "text": [
            "Test Accuracy: 0.9514, Test Precision: 0.9533, Test F1 Score: 0.9519\n",
            "\n",
            "Detailed Classification Report:\n",
            "              precision    recall  f1-score   support\n",
            "\n",
            "    Negativo       0.98      0.94      0.96       238\n",
            "     Neutral       0.89      0.95      0.92       171\n",
            "    Positivo       0.98      0.96      0.97       229\n",
            "\n",
            "    accuracy                           0.95       638\n",
            "   macro avg       0.95      0.95      0.95       638\n",
            "weighted avg       0.95      0.95      0.95       638\n",
            "\n"
          ]
        }
      ],
      "source": [
        "# Función para evaluar el modelo sobre un conjunto de prueba\n",
        "def test_model(model, data_loader, device, class_names):\n",
        "    model.eval()\n",
        "    predictions, true_labels = [], []\n",
        "\n",
        "    with torch.no_grad():\n",
        "        for batch in data_loader:\n",
        "            input_ids = batch[\"input_ids\"].to(device)\n",
        "            attention_mask = batch[\"attention_mask\"].to(device)\n",
        "            labels = batch[\"label\"].to(device)\n",
        "\n",
        "            outputs = model(input_ids, attention_mask=attention_mask)\n",
        "            logits = outputs\n",
        "            preds = torch.argmax(logits, dim=1)  # Obtener la clase con mayor probabilidad\n",
        "\n",
        "            predictions.extend(preds.cpu().numpy())\n",
        "            true_labels.extend(labels.cpu().numpy())\n",
        "\n",
        "    accuracy = accuracy_score(true_labels, predictions)\n",
        "    f1 = f1_score(true_labels, predictions, average=\"weighted\")\n",
        "    precision = precision_score(true_labels, predictions, average=\"weighted\", zero_division=0)\n",
        "\n",
        "    # Generar informe detallado por clase\n",
        "    report = classification_report(true_labels, predictions, target_names=class_names, zero_division=0)\n",
        "\n",
        "    return accuracy, precision, f1, report\n",
        "\n",
        "# Lista de nombres de las clases en el mismo orden que las etiquetas\n",
        "class_names = [\"Negativo\", \"Neutral\", \"Positivo\"]\n",
        "\n",
        "# Ejecutar la evaluación del modelo\n",
        "test_accuracy, test_precision, test_f1, test_report = test_model(model, test_dataloader, device, class_names)\n",
        "print(f\"Test Accuracy: {test_accuracy:.4f}, Test Precision: {test_precision:.4f}, Test F1 Score: {test_f1:.4f}\")\n",
        "print(\"\\nDetailed Classification Report:\")\n",
        "print(test_report)"
      ]
    },
    {
      "cell_type": "markdown",
      "metadata": {
        "id": "HUD4Naab2FgC"
      },
      "source": [
        "## Pueba del modelo"
      ]
    },
    {
      "cell_type": "code",
      "execution_count": null,
      "metadata": {
        "id": "KimLPU_F2FgC"
      },
      "outputs": [],
      "source": [
        "# Función para predecir el sentimiento asociado a un aspecto en un comentario\n",
        "def predict_aspect_sentiment(model, tokenizer, text, aspect, device, max_len=128):\n",
        "    model.eval()\n",
        "\n",
        "    # Codificar el texto y el aspecto juntos\n",
        "    inputs = tokenizer(\n",
        "        text,\n",
        "        aspect,\n",
        "        truncation=True,\n",
        "        padding='max_length',\n",
        "        max_length=max_len,\n",
        "        return_tensors=\"pt\"\n",
        "    )\n",
        "\n",
        "    input_ids = inputs['input_ids'].to(device)\n",
        "    attention_mask = inputs['attention_mask'].to(device)\n",
        "\n",
        "    with torch.no_grad():\n",
        "        outputs = model(input_ids, attention_mask=attention_mask)\n",
        "        logits = outputs\n",
        "        predicted_class = torch.argmax(logits, dim=1).item()\n",
        "\n",
        "    # Mapeo de la clase predicha a un sentimiento\n",
        "    label_mapping_reverse = {\n",
        "        0: \"Negativo\",\n",
        "        1: \"Neutral\",\n",
        "        2: \"Positivo\"\n",
        "    }\n",
        "\n",
        "    sentiment = label_mapping_reverse[predicted_class]\n",
        "    return sentiment\n"
      ]
    },
    {
      "cell_type": "code",
      "source": [
        "!python -m spacy download es_core_news_sm\n",
        "import spacy\n",
        "# Cargar modelo de procesamiento de lenguaje natural de spaCy para español\n",
        "nlp = spacy.load(\"es_core_news_sm\")\n",
        "\n",
        "# Función para extraer el primer aspecto de un comentario\n",
        "def extract_aspect(comment):\n",
        "    doc = nlp(comment)\n",
        "    for token in doc:\n",
        "        # Buscar el primer sustantivo\n",
        "        if token.pos_ in (\"NOUN\"):\n",
        "            return token.text\n",
        "    return None  # Si no se encuentra ningún sustantivo, devolver None"
      ],
      "metadata": {
        "id": "Mph2nZyvthVY",
        "collapsed": true
      },
      "execution_count": null,
      "outputs": []
    },
    {
      "cell_type": "code",
      "execution_count": null,
      "metadata": {
        "id": "OYpT1KdB2FgC"
      },
      "outputs": [],
      "source": [
        "text = \"Los sistemas empresariales están descritos de manera parcialmente correcta, le falta detallar el tipo de gestión.\"\n",
        "aspect = extract_aspect(text)\n",
        "\n",
        "predicted_sentiment = predict_aspect_sentiment(\n",
        "    model, tokenizer, text, aspect, device\n",
        ")\n",
        "\n",
        "print(f\"Comentario: {text}\")\n",
        "print(f\"Aspecto: {aspect}\")\n",
        "print(f\"Sentimiento Predicho: {predicted_sentiment}\")"
      ]
    }
  ],
  "metadata": {
    "kernelspec": {
      "display_name": "Python 3",
      "name": "python3"
    },
    "language_info": {
      "codemirror_mode": {
        "name": "ipython",
        "version": 3
      },
      "file_extension": ".py",
      "mimetype": "text/x-python",
      "name": "python",
      "nbconvert_exporter": "python",
      "pygments_lexer": "ipython3",
      "version": "3.12.7"
    },
    "colab": {
      "provenance": [],
      "gpuType": "T4",
      "include_colab_link": true
    },
    "accelerator": "GPU",
    "widgets": {
      "application/vnd.jupyter.widget-state+json": {
        "f5b49751c1b0406291f54bdbcb2ad879": {
          "model_module": "@jupyter-widgets/controls",
          "model_name": "HBoxModel",
          "model_module_version": "1.5.0",
          "state": {
            "_dom_classes": [],
            "_model_module": "@jupyter-widgets/controls",
            "_model_module_version": "1.5.0",
            "_model_name": "HBoxModel",
            "_view_count": null,
            "_view_module": "@jupyter-widgets/controls",
            "_view_module_version": "1.5.0",
            "_view_name": "HBoxView",
            "box_style": "",
            "children": [
              "IPY_MODEL_38b942efc620415ba9c73d9a05c4bbdc",
              "IPY_MODEL_ec003cf372d240248506851120a9493d",
              "IPY_MODEL_e09e7d5388804352b25c0d893165ade4"
            ],
            "layout": "IPY_MODEL_2f7515787d634ac29cc7a2523e390509"
          }
        },
        "38b942efc620415ba9c73d9a05c4bbdc": {
          "model_module": "@jupyter-widgets/controls",
          "model_name": "HTMLModel",
          "model_module_version": "1.5.0",
          "state": {
            "_dom_classes": [],
            "_model_module": "@jupyter-widgets/controls",
            "_model_module_version": "1.5.0",
            "_model_name": "HTMLModel",
            "_view_count": null,
            "_view_module": "@jupyter-widgets/controls",
            "_view_module_version": "1.5.0",
            "_view_name": "HTMLView",
            "description": "",
            "description_tooltip": null,
            "layout": "IPY_MODEL_ae2cd0e090344c23a09fc0d0f687645d",
            "placeholder": "​",
            "style": "IPY_MODEL_5a5d006b9337484ca4ea0d4fa82a89e2",
            "value": "tokenizer_config.json: 100%"
          }
        },
        "ec003cf372d240248506851120a9493d": {
          "model_module": "@jupyter-widgets/controls",
          "model_name": "FloatProgressModel",
          "model_module_version": "1.5.0",
          "state": {
            "_dom_classes": [],
            "_model_module": "@jupyter-widgets/controls",
            "_model_module_version": "1.5.0",
            "_model_name": "FloatProgressModel",
            "_view_count": null,
            "_view_module": "@jupyter-widgets/controls",
            "_view_module_version": "1.5.0",
            "_view_name": "ProgressView",
            "bar_style": "success",
            "description": "",
            "description_tooltip": null,
            "layout": "IPY_MODEL_7d3e8a9b5e5c4a7db59cb42abf9c0277",
            "max": 310,
            "min": 0,
            "orientation": "horizontal",
            "style": "IPY_MODEL_ec4300cbf78e43c0857587a197bea5b2",
            "value": 310
          }
        },
        "e09e7d5388804352b25c0d893165ade4": {
          "model_module": "@jupyter-widgets/controls",
          "model_name": "HTMLModel",
          "model_module_version": "1.5.0",
          "state": {
            "_dom_classes": [],
            "_model_module": "@jupyter-widgets/controls",
            "_model_module_version": "1.5.0",
            "_model_name": "HTMLModel",
            "_view_count": null,
            "_view_module": "@jupyter-widgets/controls",
            "_view_module_version": "1.5.0",
            "_view_name": "HTMLView",
            "description": "",
            "description_tooltip": null,
            "layout": "IPY_MODEL_3e6386a3b87345c1b5d8500e6b1d0c30",
            "placeholder": "​",
            "style": "IPY_MODEL_46759a8288a04ffaa28d8a30c9942fcf",
            "value": " 310/310 [00:00&lt;00:00, 15.1kB/s]"
          }
        },
        "2f7515787d634ac29cc7a2523e390509": {
          "model_module": "@jupyter-widgets/base",
          "model_name": "LayoutModel",
          "model_module_version": "1.2.0",
          "state": {
            "_model_module": "@jupyter-widgets/base",
            "_model_module_version": "1.2.0",
            "_model_name": "LayoutModel",
            "_view_count": null,
            "_view_module": "@jupyter-widgets/base",
            "_view_module_version": "1.2.0",
            "_view_name": "LayoutView",
            "align_content": null,
            "align_items": null,
            "align_self": null,
            "border": null,
            "bottom": null,
            "display": null,
            "flex": null,
            "flex_flow": null,
            "grid_area": null,
            "grid_auto_columns": null,
            "grid_auto_flow": null,
            "grid_auto_rows": null,
            "grid_column": null,
            "grid_gap": null,
            "grid_row": null,
            "grid_template_areas": null,
            "grid_template_columns": null,
            "grid_template_rows": null,
            "height": null,
            "justify_content": null,
            "justify_items": null,
            "left": null,
            "margin": null,
            "max_height": null,
            "max_width": null,
            "min_height": null,
            "min_width": null,
            "object_fit": null,
            "object_position": null,
            "order": null,
            "overflow": null,
            "overflow_x": null,
            "overflow_y": null,
            "padding": null,
            "right": null,
            "top": null,
            "visibility": null,
            "width": null
          }
        },
        "ae2cd0e090344c23a09fc0d0f687645d": {
          "model_module": "@jupyter-widgets/base",
          "model_name": "LayoutModel",
          "model_module_version": "1.2.0",
          "state": {
            "_model_module": "@jupyter-widgets/base",
            "_model_module_version": "1.2.0",
            "_model_name": "LayoutModel",
            "_view_count": null,
            "_view_module": "@jupyter-widgets/base",
            "_view_module_version": "1.2.0",
            "_view_name": "LayoutView",
            "align_content": null,
            "align_items": null,
            "align_self": null,
            "border": null,
            "bottom": null,
            "display": null,
            "flex": null,
            "flex_flow": null,
            "grid_area": null,
            "grid_auto_columns": null,
            "grid_auto_flow": null,
            "grid_auto_rows": null,
            "grid_column": null,
            "grid_gap": null,
            "grid_row": null,
            "grid_template_areas": null,
            "grid_template_columns": null,
            "grid_template_rows": null,
            "height": null,
            "justify_content": null,
            "justify_items": null,
            "left": null,
            "margin": null,
            "max_height": null,
            "max_width": null,
            "min_height": null,
            "min_width": null,
            "object_fit": null,
            "object_position": null,
            "order": null,
            "overflow": null,
            "overflow_x": null,
            "overflow_y": null,
            "padding": null,
            "right": null,
            "top": null,
            "visibility": null,
            "width": null
          }
        },
        "5a5d006b9337484ca4ea0d4fa82a89e2": {
          "model_module": "@jupyter-widgets/controls",
          "model_name": "DescriptionStyleModel",
          "model_module_version": "1.5.0",
          "state": {
            "_model_module": "@jupyter-widgets/controls",
            "_model_module_version": "1.5.0",
            "_model_name": "DescriptionStyleModel",
            "_view_count": null,
            "_view_module": "@jupyter-widgets/base",
            "_view_module_version": "1.2.0",
            "_view_name": "StyleView",
            "description_width": ""
          }
        },
        "7d3e8a9b5e5c4a7db59cb42abf9c0277": {
          "model_module": "@jupyter-widgets/base",
          "model_name": "LayoutModel",
          "model_module_version": "1.2.0",
          "state": {
            "_model_module": "@jupyter-widgets/base",
            "_model_module_version": "1.2.0",
            "_model_name": "LayoutModel",
            "_view_count": null,
            "_view_module": "@jupyter-widgets/base",
            "_view_module_version": "1.2.0",
            "_view_name": "LayoutView",
            "align_content": null,
            "align_items": null,
            "align_self": null,
            "border": null,
            "bottom": null,
            "display": null,
            "flex": null,
            "flex_flow": null,
            "grid_area": null,
            "grid_auto_columns": null,
            "grid_auto_flow": null,
            "grid_auto_rows": null,
            "grid_column": null,
            "grid_gap": null,
            "grid_row": null,
            "grid_template_areas": null,
            "grid_template_columns": null,
            "grid_template_rows": null,
            "height": null,
            "justify_content": null,
            "justify_items": null,
            "left": null,
            "margin": null,
            "max_height": null,
            "max_width": null,
            "min_height": null,
            "min_width": null,
            "object_fit": null,
            "object_position": null,
            "order": null,
            "overflow": null,
            "overflow_x": null,
            "overflow_y": null,
            "padding": null,
            "right": null,
            "top": null,
            "visibility": null,
            "width": null
          }
        },
        "ec4300cbf78e43c0857587a197bea5b2": {
          "model_module": "@jupyter-widgets/controls",
          "model_name": "ProgressStyleModel",
          "model_module_version": "1.5.0",
          "state": {
            "_model_module": "@jupyter-widgets/controls",
            "_model_module_version": "1.5.0",
            "_model_name": "ProgressStyleModel",
            "_view_count": null,
            "_view_module": "@jupyter-widgets/base",
            "_view_module_version": "1.2.0",
            "_view_name": "StyleView",
            "bar_color": null,
            "description_width": ""
          }
        },
        "3e6386a3b87345c1b5d8500e6b1d0c30": {
          "model_module": "@jupyter-widgets/base",
          "model_name": "LayoutModel",
          "model_module_version": "1.2.0",
          "state": {
            "_model_module": "@jupyter-widgets/base",
            "_model_module_version": "1.2.0",
            "_model_name": "LayoutModel",
            "_view_count": null,
            "_view_module": "@jupyter-widgets/base",
            "_view_module_version": "1.2.0",
            "_view_name": "LayoutView",
            "align_content": null,
            "align_items": null,
            "align_self": null,
            "border": null,
            "bottom": null,
            "display": null,
            "flex": null,
            "flex_flow": null,
            "grid_area": null,
            "grid_auto_columns": null,
            "grid_auto_flow": null,
            "grid_auto_rows": null,
            "grid_column": null,
            "grid_gap": null,
            "grid_row": null,
            "grid_template_areas": null,
            "grid_template_columns": null,
            "grid_template_rows": null,
            "height": null,
            "justify_content": null,
            "justify_items": null,
            "left": null,
            "margin": null,
            "max_height": null,
            "max_width": null,
            "min_height": null,
            "min_width": null,
            "object_fit": null,
            "object_position": null,
            "order": null,
            "overflow": null,
            "overflow_x": null,
            "overflow_y": null,
            "padding": null,
            "right": null,
            "top": null,
            "visibility": null,
            "width": null
          }
        },
        "46759a8288a04ffaa28d8a30c9942fcf": {
          "model_module": "@jupyter-widgets/controls",
          "model_name": "DescriptionStyleModel",
          "model_module_version": "1.5.0",
          "state": {
            "_model_module": "@jupyter-widgets/controls",
            "_model_module_version": "1.5.0",
            "_model_name": "DescriptionStyleModel",
            "_view_count": null,
            "_view_module": "@jupyter-widgets/base",
            "_view_module_version": "1.2.0",
            "_view_name": "StyleView",
            "description_width": ""
          }
        },
        "f5c54f94b5d046fdbbff90286aa9d650": {
          "model_module": "@jupyter-widgets/controls",
          "model_name": "HBoxModel",
          "model_module_version": "1.5.0",
          "state": {
            "_dom_classes": [],
            "_model_module": "@jupyter-widgets/controls",
            "_model_module_version": "1.5.0",
            "_model_name": "HBoxModel",
            "_view_count": null,
            "_view_module": "@jupyter-widgets/controls",
            "_view_module_version": "1.5.0",
            "_view_name": "HBoxView",
            "box_style": "",
            "children": [
              "IPY_MODEL_bee1e9f210a4429f8f2cd8dae6fbecc3",
              "IPY_MODEL_b6efbdb4a3fd4d2999b34f6100b175e9",
              "IPY_MODEL_00f274686685494ba19a994c0cf1ab73"
            ],
            "layout": "IPY_MODEL_46993e1a0c4d4573a5d853fb28631f05"
          }
        },
        "bee1e9f210a4429f8f2cd8dae6fbecc3": {
          "model_module": "@jupyter-widgets/controls",
          "model_name": "HTMLModel",
          "model_module_version": "1.5.0",
          "state": {
            "_dom_classes": [],
            "_model_module": "@jupyter-widgets/controls",
            "_model_module_version": "1.5.0",
            "_model_name": "HTMLModel",
            "_view_count": null,
            "_view_module": "@jupyter-widgets/controls",
            "_view_module_version": "1.5.0",
            "_view_name": "HTMLView",
            "description": "",
            "description_tooltip": null,
            "layout": "IPY_MODEL_37ca4872b906438da73606b178fb70ee",
            "placeholder": "​",
            "style": "IPY_MODEL_9a6ea996fe00448cb3be303638e4cdec",
            "value": "vocab.txt: 100%"
          }
        },
        "b6efbdb4a3fd4d2999b34f6100b175e9": {
          "model_module": "@jupyter-widgets/controls",
          "model_name": "FloatProgressModel",
          "model_module_version": "1.5.0",
          "state": {
            "_dom_classes": [],
            "_model_module": "@jupyter-widgets/controls",
            "_model_module_version": "1.5.0",
            "_model_name": "FloatProgressModel",
            "_view_count": null,
            "_view_module": "@jupyter-widgets/controls",
            "_view_module_version": "1.5.0",
            "_view_name": "ProgressView",
            "bar_style": "success",
            "description": "",
            "description_tooltip": null,
            "layout": "IPY_MODEL_c7c8bad575234eb6ad627b9b731a0dce",
            "max": 247723,
            "min": 0,
            "orientation": "horizontal",
            "style": "IPY_MODEL_9d1878abdfb14a898267c8f22683d9e8",
            "value": 247723
          }
        },
        "00f274686685494ba19a994c0cf1ab73": {
          "model_module": "@jupyter-widgets/controls",
          "model_name": "HTMLModel",
          "model_module_version": "1.5.0",
          "state": {
            "_dom_classes": [],
            "_model_module": "@jupyter-widgets/controls",
            "_model_module_version": "1.5.0",
            "_model_name": "HTMLModel",
            "_view_count": null,
            "_view_module": "@jupyter-widgets/controls",
            "_view_module_version": "1.5.0",
            "_view_name": "HTMLView",
            "description": "",
            "description_tooltip": null,
            "layout": "IPY_MODEL_f4023e9fd9e24ee2bb0d971b939ac8fa",
            "placeholder": "​",
            "style": "IPY_MODEL_67ba0c195e6f4a99aa78120e4795eca3",
            "value": " 248k/248k [00:00&lt;00:00, 1.89MB/s]"
          }
        },
        "46993e1a0c4d4573a5d853fb28631f05": {
          "model_module": "@jupyter-widgets/base",
          "model_name": "LayoutModel",
          "model_module_version": "1.2.0",
          "state": {
            "_model_module": "@jupyter-widgets/base",
            "_model_module_version": "1.2.0",
            "_model_name": "LayoutModel",
            "_view_count": null,
            "_view_module": "@jupyter-widgets/base",
            "_view_module_version": "1.2.0",
            "_view_name": "LayoutView",
            "align_content": null,
            "align_items": null,
            "align_self": null,
            "border": null,
            "bottom": null,
            "display": null,
            "flex": null,
            "flex_flow": null,
            "grid_area": null,
            "grid_auto_columns": null,
            "grid_auto_flow": null,
            "grid_auto_rows": null,
            "grid_column": null,
            "grid_gap": null,
            "grid_row": null,
            "grid_template_areas": null,
            "grid_template_columns": null,
            "grid_template_rows": null,
            "height": null,
            "justify_content": null,
            "justify_items": null,
            "left": null,
            "margin": null,
            "max_height": null,
            "max_width": null,
            "min_height": null,
            "min_width": null,
            "object_fit": null,
            "object_position": null,
            "order": null,
            "overflow": null,
            "overflow_x": null,
            "overflow_y": null,
            "padding": null,
            "right": null,
            "top": null,
            "visibility": null,
            "width": null
          }
        },
        "37ca4872b906438da73606b178fb70ee": {
          "model_module": "@jupyter-widgets/base",
          "model_name": "LayoutModel",
          "model_module_version": "1.2.0",
          "state": {
            "_model_module": "@jupyter-widgets/base",
            "_model_module_version": "1.2.0",
            "_model_name": "LayoutModel",
            "_view_count": null,
            "_view_module": "@jupyter-widgets/base",
            "_view_module_version": "1.2.0",
            "_view_name": "LayoutView",
            "align_content": null,
            "align_items": null,
            "align_self": null,
            "border": null,
            "bottom": null,
            "display": null,
            "flex": null,
            "flex_flow": null,
            "grid_area": null,
            "grid_auto_columns": null,
            "grid_auto_flow": null,
            "grid_auto_rows": null,
            "grid_column": null,
            "grid_gap": null,
            "grid_row": null,
            "grid_template_areas": null,
            "grid_template_columns": null,
            "grid_template_rows": null,
            "height": null,
            "justify_content": null,
            "justify_items": null,
            "left": null,
            "margin": null,
            "max_height": null,
            "max_width": null,
            "min_height": null,
            "min_width": null,
            "object_fit": null,
            "object_position": null,
            "order": null,
            "overflow": null,
            "overflow_x": null,
            "overflow_y": null,
            "padding": null,
            "right": null,
            "top": null,
            "visibility": null,
            "width": null
          }
        },
        "9a6ea996fe00448cb3be303638e4cdec": {
          "model_module": "@jupyter-widgets/controls",
          "model_name": "DescriptionStyleModel",
          "model_module_version": "1.5.0",
          "state": {
            "_model_module": "@jupyter-widgets/controls",
            "_model_module_version": "1.5.0",
            "_model_name": "DescriptionStyleModel",
            "_view_count": null,
            "_view_module": "@jupyter-widgets/base",
            "_view_module_version": "1.2.0",
            "_view_name": "StyleView",
            "description_width": ""
          }
        },
        "c7c8bad575234eb6ad627b9b731a0dce": {
          "model_module": "@jupyter-widgets/base",
          "model_name": "LayoutModel",
          "model_module_version": "1.2.0",
          "state": {
            "_model_module": "@jupyter-widgets/base",
            "_model_module_version": "1.2.0",
            "_model_name": "LayoutModel",
            "_view_count": null,
            "_view_module": "@jupyter-widgets/base",
            "_view_module_version": "1.2.0",
            "_view_name": "LayoutView",
            "align_content": null,
            "align_items": null,
            "align_self": null,
            "border": null,
            "bottom": null,
            "display": null,
            "flex": null,
            "flex_flow": null,
            "grid_area": null,
            "grid_auto_columns": null,
            "grid_auto_flow": null,
            "grid_auto_rows": null,
            "grid_column": null,
            "grid_gap": null,
            "grid_row": null,
            "grid_template_areas": null,
            "grid_template_columns": null,
            "grid_template_rows": null,
            "height": null,
            "justify_content": null,
            "justify_items": null,
            "left": null,
            "margin": null,
            "max_height": null,
            "max_width": null,
            "min_height": null,
            "min_width": null,
            "object_fit": null,
            "object_position": null,
            "order": null,
            "overflow": null,
            "overflow_x": null,
            "overflow_y": null,
            "padding": null,
            "right": null,
            "top": null,
            "visibility": null,
            "width": null
          }
        },
        "9d1878abdfb14a898267c8f22683d9e8": {
          "model_module": "@jupyter-widgets/controls",
          "model_name": "ProgressStyleModel",
          "model_module_version": "1.5.0",
          "state": {
            "_model_module": "@jupyter-widgets/controls",
            "_model_module_version": "1.5.0",
            "_model_name": "ProgressStyleModel",
            "_view_count": null,
            "_view_module": "@jupyter-widgets/base",
            "_view_module_version": "1.2.0",
            "_view_name": "StyleView",
            "bar_color": null,
            "description_width": ""
          }
        },
        "f4023e9fd9e24ee2bb0d971b939ac8fa": {
          "model_module": "@jupyter-widgets/base",
          "model_name": "LayoutModel",
          "model_module_version": "1.2.0",
          "state": {
            "_model_module": "@jupyter-widgets/base",
            "_model_module_version": "1.2.0",
            "_model_name": "LayoutModel",
            "_view_count": null,
            "_view_module": "@jupyter-widgets/base",
            "_view_module_version": "1.2.0",
            "_view_name": "LayoutView",
            "align_content": null,
            "align_items": null,
            "align_self": null,
            "border": null,
            "bottom": null,
            "display": null,
            "flex": null,
            "flex_flow": null,
            "grid_area": null,
            "grid_auto_columns": null,
            "grid_auto_flow": null,
            "grid_auto_rows": null,
            "grid_column": null,
            "grid_gap": null,
            "grid_row": null,
            "grid_template_areas": null,
            "grid_template_columns": null,
            "grid_template_rows": null,
            "height": null,
            "justify_content": null,
            "justify_items": null,
            "left": null,
            "margin": null,
            "max_height": null,
            "max_width": null,
            "min_height": null,
            "min_width": null,
            "object_fit": null,
            "object_position": null,
            "order": null,
            "overflow": null,
            "overflow_x": null,
            "overflow_y": null,
            "padding": null,
            "right": null,
            "top": null,
            "visibility": null,
            "width": null
          }
        },
        "67ba0c195e6f4a99aa78120e4795eca3": {
          "model_module": "@jupyter-widgets/controls",
          "model_name": "DescriptionStyleModel",
          "model_module_version": "1.5.0",
          "state": {
            "_model_module": "@jupyter-widgets/controls",
            "_model_module_version": "1.5.0",
            "_model_name": "DescriptionStyleModel",
            "_view_count": null,
            "_view_module": "@jupyter-widgets/base",
            "_view_module_version": "1.2.0",
            "_view_name": "StyleView",
            "description_width": ""
          }
        },
        "482fe31e97e147a29be4e11fe2881ef6": {
          "model_module": "@jupyter-widgets/controls",
          "model_name": "HBoxModel",
          "model_module_version": "1.5.0",
          "state": {
            "_dom_classes": [],
            "_model_module": "@jupyter-widgets/controls",
            "_model_module_version": "1.5.0",
            "_model_name": "HBoxModel",
            "_view_count": null,
            "_view_module": "@jupyter-widgets/controls",
            "_view_module_version": "1.5.0",
            "_view_name": "HBoxView",
            "box_style": "",
            "children": [
              "IPY_MODEL_688478cdb03244b9a2bb5c09515fce09",
              "IPY_MODEL_6e9d3e873d154f91b1e64668d87aa894",
              "IPY_MODEL_f30afd026cae4e0f98a7b5a2f5a5a87c"
            ],
            "layout": "IPY_MODEL_9ba7467b0a4548a4be7f311f022c6bc7"
          }
        },
        "688478cdb03244b9a2bb5c09515fce09": {
          "model_module": "@jupyter-widgets/controls",
          "model_name": "HTMLModel",
          "model_module_version": "1.5.0",
          "state": {
            "_dom_classes": [],
            "_model_module": "@jupyter-widgets/controls",
            "_model_module_version": "1.5.0",
            "_model_name": "HTMLModel",
            "_view_count": null,
            "_view_module": "@jupyter-widgets/controls",
            "_view_module_version": "1.5.0",
            "_view_name": "HTMLView",
            "description": "",
            "description_tooltip": null,
            "layout": "IPY_MODEL_0985a9f9f42f4e4f8d9b6fa56f50b9ba",
            "placeholder": "​",
            "style": "IPY_MODEL_fa80c6e758ee476fb4a7c087ceab71b7",
            "value": "special_tokens_map.json: 100%"
          }
        },
        "6e9d3e873d154f91b1e64668d87aa894": {
          "model_module": "@jupyter-widgets/controls",
          "model_name": "FloatProgressModel",
          "model_module_version": "1.5.0",
          "state": {
            "_dom_classes": [],
            "_model_module": "@jupyter-widgets/controls",
            "_model_module_version": "1.5.0",
            "_model_name": "FloatProgressModel",
            "_view_count": null,
            "_view_module": "@jupyter-widgets/controls",
            "_view_module_version": "1.5.0",
            "_view_name": "ProgressView",
            "bar_style": "success",
            "description": "",
            "description_tooltip": null,
            "layout": "IPY_MODEL_a0dc6a6c667c4aa9b60953cecb3fb643",
            "max": 134,
            "min": 0,
            "orientation": "horizontal",
            "style": "IPY_MODEL_cc4f90377fdd4a5bbdd9cd627a221be9",
            "value": 134
          }
        },
        "f30afd026cae4e0f98a7b5a2f5a5a87c": {
          "model_module": "@jupyter-widgets/controls",
          "model_name": "HTMLModel",
          "model_module_version": "1.5.0",
          "state": {
            "_dom_classes": [],
            "_model_module": "@jupyter-widgets/controls",
            "_model_module_version": "1.5.0",
            "_model_name": "HTMLModel",
            "_view_count": null,
            "_view_module": "@jupyter-widgets/controls",
            "_view_module_version": "1.5.0",
            "_view_name": "HTMLView",
            "description": "",
            "description_tooltip": null,
            "layout": "IPY_MODEL_35c7908d49c64291bbd8511559f6d745",
            "placeholder": "​",
            "style": "IPY_MODEL_c4993be7453c4c50bb6be0ab2b2ac80c",
            "value": " 134/134 [00:00&lt;00:00, 6.11kB/s]"
          }
        },
        "9ba7467b0a4548a4be7f311f022c6bc7": {
          "model_module": "@jupyter-widgets/base",
          "model_name": "LayoutModel",
          "model_module_version": "1.2.0",
          "state": {
            "_model_module": "@jupyter-widgets/base",
            "_model_module_version": "1.2.0",
            "_model_name": "LayoutModel",
            "_view_count": null,
            "_view_module": "@jupyter-widgets/base",
            "_view_module_version": "1.2.0",
            "_view_name": "LayoutView",
            "align_content": null,
            "align_items": null,
            "align_self": null,
            "border": null,
            "bottom": null,
            "display": null,
            "flex": null,
            "flex_flow": null,
            "grid_area": null,
            "grid_auto_columns": null,
            "grid_auto_flow": null,
            "grid_auto_rows": null,
            "grid_column": null,
            "grid_gap": null,
            "grid_row": null,
            "grid_template_areas": null,
            "grid_template_columns": null,
            "grid_template_rows": null,
            "height": null,
            "justify_content": null,
            "justify_items": null,
            "left": null,
            "margin": null,
            "max_height": null,
            "max_width": null,
            "min_height": null,
            "min_width": null,
            "object_fit": null,
            "object_position": null,
            "order": null,
            "overflow": null,
            "overflow_x": null,
            "overflow_y": null,
            "padding": null,
            "right": null,
            "top": null,
            "visibility": null,
            "width": null
          }
        },
        "0985a9f9f42f4e4f8d9b6fa56f50b9ba": {
          "model_module": "@jupyter-widgets/base",
          "model_name": "LayoutModel",
          "model_module_version": "1.2.0",
          "state": {
            "_model_module": "@jupyter-widgets/base",
            "_model_module_version": "1.2.0",
            "_model_name": "LayoutModel",
            "_view_count": null,
            "_view_module": "@jupyter-widgets/base",
            "_view_module_version": "1.2.0",
            "_view_name": "LayoutView",
            "align_content": null,
            "align_items": null,
            "align_self": null,
            "border": null,
            "bottom": null,
            "display": null,
            "flex": null,
            "flex_flow": null,
            "grid_area": null,
            "grid_auto_columns": null,
            "grid_auto_flow": null,
            "grid_auto_rows": null,
            "grid_column": null,
            "grid_gap": null,
            "grid_row": null,
            "grid_template_areas": null,
            "grid_template_columns": null,
            "grid_template_rows": null,
            "height": null,
            "justify_content": null,
            "justify_items": null,
            "left": null,
            "margin": null,
            "max_height": null,
            "max_width": null,
            "min_height": null,
            "min_width": null,
            "object_fit": null,
            "object_position": null,
            "order": null,
            "overflow": null,
            "overflow_x": null,
            "overflow_y": null,
            "padding": null,
            "right": null,
            "top": null,
            "visibility": null,
            "width": null
          }
        },
        "fa80c6e758ee476fb4a7c087ceab71b7": {
          "model_module": "@jupyter-widgets/controls",
          "model_name": "DescriptionStyleModel",
          "model_module_version": "1.5.0",
          "state": {
            "_model_module": "@jupyter-widgets/controls",
            "_model_module_version": "1.5.0",
            "_model_name": "DescriptionStyleModel",
            "_view_count": null,
            "_view_module": "@jupyter-widgets/base",
            "_view_module_version": "1.2.0",
            "_view_name": "StyleView",
            "description_width": ""
          }
        },
        "a0dc6a6c667c4aa9b60953cecb3fb643": {
          "model_module": "@jupyter-widgets/base",
          "model_name": "LayoutModel",
          "model_module_version": "1.2.0",
          "state": {
            "_model_module": "@jupyter-widgets/base",
            "_model_module_version": "1.2.0",
            "_model_name": "LayoutModel",
            "_view_count": null,
            "_view_module": "@jupyter-widgets/base",
            "_view_module_version": "1.2.0",
            "_view_name": "LayoutView",
            "align_content": null,
            "align_items": null,
            "align_self": null,
            "border": null,
            "bottom": null,
            "display": null,
            "flex": null,
            "flex_flow": null,
            "grid_area": null,
            "grid_auto_columns": null,
            "grid_auto_flow": null,
            "grid_auto_rows": null,
            "grid_column": null,
            "grid_gap": null,
            "grid_row": null,
            "grid_template_areas": null,
            "grid_template_columns": null,
            "grid_template_rows": null,
            "height": null,
            "justify_content": null,
            "justify_items": null,
            "left": null,
            "margin": null,
            "max_height": null,
            "max_width": null,
            "min_height": null,
            "min_width": null,
            "object_fit": null,
            "object_position": null,
            "order": null,
            "overflow": null,
            "overflow_x": null,
            "overflow_y": null,
            "padding": null,
            "right": null,
            "top": null,
            "visibility": null,
            "width": null
          }
        },
        "cc4f90377fdd4a5bbdd9cd627a221be9": {
          "model_module": "@jupyter-widgets/controls",
          "model_name": "ProgressStyleModel",
          "model_module_version": "1.5.0",
          "state": {
            "_model_module": "@jupyter-widgets/controls",
            "_model_module_version": "1.5.0",
            "_model_name": "ProgressStyleModel",
            "_view_count": null,
            "_view_module": "@jupyter-widgets/base",
            "_view_module_version": "1.2.0",
            "_view_name": "StyleView",
            "bar_color": null,
            "description_width": ""
          }
        },
        "35c7908d49c64291bbd8511559f6d745": {
          "model_module": "@jupyter-widgets/base",
          "model_name": "LayoutModel",
          "model_module_version": "1.2.0",
          "state": {
            "_model_module": "@jupyter-widgets/base",
            "_model_module_version": "1.2.0",
            "_model_name": "LayoutModel",
            "_view_count": null,
            "_view_module": "@jupyter-widgets/base",
            "_view_module_version": "1.2.0",
            "_view_name": "LayoutView",
            "align_content": null,
            "align_items": null,
            "align_self": null,
            "border": null,
            "bottom": null,
            "display": null,
            "flex": null,
            "flex_flow": null,
            "grid_area": null,
            "grid_auto_columns": null,
            "grid_auto_flow": null,
            "grid_auto_rows": null,
            "grid_column": null,
            "grid_gap": null,
            "grid_row": null,
            "grid_template_areas": null,
            "grid_template_columns": null,
            "grid_template_rows": null,
            "height": null,
            "justify_content": null,
            "justify_items": null,
            "left": null,
            "margin": null,
            "max_height": null,
            "max_width": null,
            "min_height": null,
            "min_width": null,
            "object_fit": null,
            "object_position": null,
            "order": null,
            "overflow": null,
            "overflow_x": null,
            "overflow_y": null,
            "padding": null,
            "right": null,
            "top": null,
            "visibility": null,
            "width": null
          }
        },
        "c4993be7453c4c50bb6be0ab2b2ac80c": {
          "model_module": "@jupyter-widgets/controls",
          "model_name": "DescriptionStyleModel",
          "model_module_version": "1.5.0",
          "state": {
            "_model_module": "@jupyter-widgets/controls",
            "_model_module_version": "1.5.0",
            "_model_name": "DescriptionStyleModel",
            "_view_count": null,
            "_view_module": "@jupyter-widgets/base",
            "_view_module_version": "1.2.0",
            "_view_name": "StyleView",
            "description_width": ""
          }
        },
        "501d1f823f614cc18e0153f2ac057378": {
          "model_module": "@jupyter-widgets/controls",
          "model_name": "HBoxModel",
          "model_module_version": "1.5.0",
          "state": {
            "_dom_classes": [],
            "_model_module": "@jupyter-widgets/controls",
            "_model_module_version": "1.5.0",
            "_model_name": "HBoxModel",
            "_view_count": null,
            "_view_module": "@jupyter-widgets/controls",
            "_view_module_version": "1.5.0",
            "_view_name": "HBoxView",
            "box_style": "",
            "children": [
              "IPY_MODEL_b72e5b857ca44d0db230da4f1df2f1e7",
              "IPY_MODEL_e7cd9ba6678d43e792e742bdd00df3c3",
              "IPY_MODEL_5c00b19233674b59ba5c32fc9896067a"
            ],
            "layout": "IPY_MODEL_d334e3feeb464172adc0fc841d56207c"
          }
        },
        "b72e5b857ca44d0db230da4f1df2f1e7": {
          "model_module": "@jupyter-widgets/controls",
          "model_name": "HTMLModel",
          "model_module_version": "1.5.0",
          "state": {
            "_dom_classes": [],
            "_model_module": "@jupyter-widgets/controls",
            "_model_module_version": "1.5.0",
            "_model_name": "HTMLModel",
            "_view_count": null,
            "_view_module": "@jupyter-widgets/controls",
            "_view_module_version": "1.5.0",
            "_view_name": "HTMLView",
            "description": "",
            "description_tooltip": null,
            "layout": "IPY_MODEL_b8ec1473f34845f0a9db4487eec58041",
            "placeholder": "​",
            "style": "IPY_MODEL_d8e8c1ab6c3e4f5fbf9f1025da6024c5",
            "value": "tokenizer.json: 100%"
          }
        },
        "e7cd9ba6678d43e792e742bdd00df3c3": {
          "model_module": "@jupyter-widgets/controls",
          "model_name": "FloatProgressModel",
          "model_module_version": "1.5.0",
          "state": {
            "_dom_classes": [],
            "_model_module": "@jupyter-widgets/controls",
            "_model_module_version": "1.5.0",
            "_model_name": "FloatProgressModel",
            "_view_count": null,
            "_view_module": "@jupyter-widgets/controls",
            "_view_module_version": "1.5.0",
            "_view_name": "ProgressView",
            "bar_style": "success",
            "description": "",
            "description_tooltip": null,
            "layout": "IPY_MODEL_bdec7181a33648f9b2d215ba34f02798",
            "max": 486125,
            "min": 0,
            "orientation": "horizontal",
            "style": "IPY_MODEL_b4fb676e22974101947d74892c68e445",
            "value": 486125
          }
        },
        "5c00b19233674b59ba5c32fc9896067a": {
          "model_module": "@jupyter-widgets/controls",
          "model_name": "HTMLModel",
          "model_module_version": "1.5.0",
          "state": {
            "_dom_classes": [],
            "_model_module": "@jupyter-widgets/controls",
            "_model_module_version": "1.5.0",
            "_model_name": "HTMLModel",
            "_view_count": null,
            "_view_module": "@jupyter-widgets/controls",
            "_view_module_version": "1.5.0",
            "_view_name": "HTMLView",
            "description": "",
            "description_tooltip": null,
            "layout": "IPY_MODEL_59371928bd1b46a5a657d534484d90b5",
            "placeholder": "​",
            "style": "IPY_MODEL_8203ed01cb514330b4489d2b716172cb",
            "value": " 486k/486k [00:00&lt;00:00, 7.35MB/s]"
          }
        },
        "d334e3feeb464172adc0fc841d56207c": {
          "model_module": "@jupyter-widgets/base",
          "model_name": "LayoutModel",
          "model_module_version": "1.2.0",
          "state": {
            "_model_module": "@jupyter-widgets/base",
            "_model_module_version": "1.2.0",
            "_model_name": "LayoutModel",
            "_view_count": null,
            "_view_module": "@jupyter-widgets/base",
            "_view_module_version": "1.2.0",
            "_view_name": "LayoutView",
            "align_content": null,
            "align_items": null,
            "align_self": null,
            "border": null,
            "bottom": null,
            "display": null,
            "flex": null,
            "flex_flow": null,
            "grid_area": null,
            "grid_auto_columns": null,
            "grid_auto_flow": null,
            "grid_auto_rows": null,
            "grid_column": null,
            "grid_gap": null,
            "grid_row": null,
            "grid_template_areas": null,
            "grid_template_columns": null,
            "grid_template_rows": null,
            "height": null,
            "justify_content": null,
            "justify_items": null,
            "left": null,
            "margin": null,
            "max_height": null,
            "max_width": null,
            "min_height": null,
            "min_width": null,
            "object_fit": null,
            "object_position": null,
            "order": null,
            "overflow": null,
            "overflow_x": null,
            "overflow_y": null,
            "padding": null,
            "right": null,
            "top": null,
            "visibility": null,
            "width": null
          }
        },
        "b8ec1473f34845f0a9db4487eec58041": {
          "model_module": "@jupyter-widgets/base",
          "model_name": "LayoutModel",
          "model_module_version": "1.2.0",
          "state": {
            "_model_module": "@jupyter-widgets/base",
            "_model_module_version": "1.2.0",
            "_model_name": "LayoutModel",
            "_view_count": null,
            "_view_module": "@jupyter-widgets/base",
            "_view_module_version": "1.2.0",
            "_view_name": "LayoutView",
            "align_content": null,
            "align_items": null,
            "align_self": null,
            "border": null,
            "bottom": null,
            "display": null,
            "flex": null,
            "flex_flow": null,
            "grid_area": null,
            "grid_auto_columns": null,
            "grid_auto_flow": null,
            "grid_auto_rows": null,
            "grid_column": null,
            "grid_gap": null,
            "grid_row": null,
            "grid_template_areas": null,
            "grid_template_columns": null,
            "grid_template_rows": null,
            "height": null,
            "justify_content": null,
            "justify_items": null,
            "left": null,
            "margin": null,
            "max_height": null,
            "max_width": null,
            "min_height": null,
            "min_width": null,
            "object_fit": null,
            "object_position": null,
            "order": null,
            "overflow": null,
            "overflow_x": null,
            "overflow_y": null,
            "padding": null,
            "right": null,
            "top": null,
            "visibility": null,
            "width": null
          }
        },
        "d8e8c1ab6c3e4f5fbf9f1025da6024c5": {
          "model_module": "@jupyter-widgets/controls",
          "model_name": "DescriptionStyleModel",
          "model_module_version": "1.5.0",
          "state": {
            "_model_module": "@jupyter-widgets/controls",
            "_model_module_version": "1.5.0",
            "_model_name": "DescriptionStyleModel",
            "_view_count": null,
            "_view_module": "@jupyter-widgets/base",
            "_view_module_version": "1.2.0",
            "_view_name": "StyleView",
            "description_width": ""
          }
        },
        "bdec7181a33648f9b2d215ba34f02798": {
          "model_module": "@jupyter-widgets/base",
          "model_name": "LayoutModel",
          "model_module_version": "1.2.0",
          "state": {
            "_model_module": "@jupyter-widgets/base",
            "_model_module_version": "1.2.0",
            "_model_name": "LayoutModel",
            "_view_count": null,
            "_view_module": "@jupyter-widgets/base",
            "_view_module_version": "1.2.0",
            "_view_name": "LayoutView",
            "align_content": null,
            "align_items": null,
            "align_self": null,
            "border": null,
            "bottom": null,
            "display": null,
            "flex": null,
            "flex_flow": null,
            "grid_area": null,
            "grid_auto_columns": null,
            "grid_auto_flow": null,
            "grid_auto_rows": null,
            "grid_column": null,
            "grid_gap": null,
            "grid_row": null,
            "grid_template_areas": null,
            "grid_template_columns": null,
            "grid_template_rows": null,
            "height": null,
            "justify_content": null,
            "justify_items": null,
            "left": null,
            "margin": null,
            "max_height": null,
            "max_width": null,
            "min_height": null,
            "min_width": null,
            "object_fit": null,
            "object_position": null,
            "order": null,
            "overflow": null,
            "overflow_x": null,
            "overflow_y": null,
            "padding": null,
            "right": null,
            "top": null,
            "visibility": null,
            "width": null
          }
        },
        "b4fb676e22974101947d74892c68e445": {
          "model_module": "@jupyter-widgets/controls",
          "model_name": "ProgressStyleModel",
          "model_module_version": "1.5.0",
          "state": {
            "_model_module": "@jupyter-widgets/controls",
            "_model_module_version": "1.5.0",
            "_model_name": "ProgressStyleModel",
            "_view_count": null,
            "_view_module": "@jupyter-widgets/base",
            "_view_module_version": "1.2.0",
            "_view_name": "StyleView",
            "bar_color": null,
            "description_width": ""
          }
        },
        "59371928bd1b46a5a657d534484d90b5": {
          "model_module": "@jupyter-widgets/base",
          "model_name": "LayoutModel",
          "model_module_version": "1.2.0",
          "state": {
            "_model_module": "@jupyter-widgets/base",
            "_model_module_version": "1.2.0",
            "_model_name": "LayoutModel",
            "_view_count": null,
            "_view_module": "@jupyter-widgets/base",
            "_view_module_version": "1.2.0",
            "_view_name": "LayoutView",
            "align_content": null,
            "align_items": null,
            "align_self": null,
            "border": null,
            "bottom": null,
            "display": null,
            "flex": null,
            "flex_flow": null,
            "grid_area": null,
            "grid_auto_columns": null,
            "grid_auto_flow": null,
            "grid_auto_rows": null,
            "grid_column": null,
            "grid_gap": null,
            "grid_row": null,
            "grid_template_areas": null,
            "grid_template_columns": null,
            "grid_template_rows": null,
            "height": null,
            "justify_content": null,
            "justify_items": null,
            "left": null,
            "margin": null,
            "max_height": null,
            "max_width": null,
            "min_height": null,
            "min_width": null,
            "object_fit": null,
            "object_position": null,
            "order": null,
            "overflow": null,
            "overflow_x": null,
            "overflow_y": null,
            "padding": null,
            "right": null,
            "top": null,
            "visibility": null,
            "width": null
          }
        },
        "8203ed01cb514330b4489d2b716172cb": {
          "model_module": "@jupyter-widgets/controls",
          "model_name": "DescriptionStyleModel",
          "model_module_version": "1.5.0",
          "state": {
            "_model_module": "@jupyter-widgets/controls",
            "_model_module_version": "1.5.0",
            "_model_name": "DescriptionStyleModel",
            "_view_count": null,
            "_view_module": "@jupyter-widgets/base",
            "_view_module_version": "1.2.0",
            "_view_name": "StyleView",
            "description_width": ""
          }
        },
        "3234253d51924341b4b1863512fa7ec4": {
          "model_module": "@jupyter-widgets/controls",
          "model_name": "HBoxModel",
          "model_module_version": "1.5.0",
          "state": {
            "_dom_classes": [],
            "_model_module": "@jupyter-widgets/controls",
            "_model_module_version": "1.5.0",
            "_model_name": "HBoxModel",
            "_view_count": null,
            "_view_module": "@jupyter-widgets/controls",
            "_view_module_version": "1.5.0",
            "_view_name": "HBoxView",
            "box_style": "",
            "children": [
              "IPY_MODEL_aec24cade87b4920a410b529fc00b1a1",
              "IPY_MODEL_2785dded5a91440fafd0d6cda97c99fa",
              "IPY_MODEL_6f2e72775f774d3d99ba0bcc8b5801c0"
            ],
            "layout": "IPY_MODEL_876d3313e7a647dca1063cfaac255759"
          }
        },
        "aec24cade87b4920a410b529fc00b1a1": {
          "model_module": "@jupyter-widgets/controls",
          "model_name": "HTMLModel",
          "model_module_version": "1.5.0",
          "state": {
            "_dom_classes": [],
            "_model_module": "@jupyter-widgets/controls",
            "_model_module_version": "1.5.0",
            "_model_name": "HTMLModel",
            "_view_count": null,
            "_view_module": "@jupyter-widgets/controls",
            "_view_module_version": "1.5.0",
            "_view_name": "HTMLView",
            "description": "",
            "description_tooltip": null,
            "layout": "IPY_MODEL_5782060f13f4424a943c45d6f6db20fb",
            "placeholder": "​",
            "style": "IPY_MODEL_9491897c7b344a4e9aaf5fa072a20984",
            "value": "config.json: 100%"
          }
        },
        "2785dded5a91440fafd0d6cda97c99fa": {
          "model_module": "@jupyter-widgets/controls",
          "model_name": "FloatProgressModel",
          "model_module_version": "1.5.0",
          "state": {
            "_dom_classes": [],
            "_model_module": "@jupyter-widgets/controls",
            "_model_module_version": "1.5.0",
            "_model_name": "FloatProgressModel",
            "_view_count": null,
            "_view_module": "@jupyter-widgets/controls",
            "_view_module_version": "1.5.0",
            "_view_name": "ProgressView",
            "bar_style": "success",
            "description": "",
            "description_tooltip": null,
            "layout": "IPY_MODEL_bf8958a9c4e5459ea4f4c1369ed353f3",
            "max": 650,
            "min": 0,
            "orientation": "horizontal",
            "style": "IPY_MODEL_a33e87868f744827baf8ec600f279da4",
            "value": 650
          }
        },
        "6f2e72775f774d3d99ba0bcc8b5801c0": {
          "model_module": "@jupyter-widgets/controls",
          "model_name": "HTMLModel",
          "model_module_version": "1.5.0",
          "state": {
            "_dom_classes": [],
            "_model_module": "@jupyter-widgets/controls",
            "_model_module_version": "1.5.0",
            "_model_name": "HTMLModel",
            "_view_count": null,
            "_view_module": "@jupyter-widgets/controls",
            "_view_module_version": "1.5.0",
            "_view_name": "HTMLView",
            "description": "",
            "description_tooltip": null,
            "layout": "IPY_MODEL_a88d4b85fa7d4cc38e276243347e8cfa",
            "placeholder": "​",
            "style": "IPY_MODEL_45342177bdaf4758b91eca810db95ba0",
            "value": " 650/650 [00:00&lt;00:00, 51.5kB/s]"
          }
        },
        "876d3313e7a647dca1063cfaac255759": {
          "model_module": "@jupyter-widgets/base",
          "model_name": "LayoutModel",
          "model_module_version": "1.2.0",
          "state": {
            "_model_module": "@jupyter-widgets/base",
            "_model_module_version": "1.2.0",
            "_model_name": "LayoutModel",
            "_view_count": null,
            "_view_module": "@jupyter-widgets/base",
            "_view_module_version": "1.2.0",
            "_view_name": "LayoutView",
            "align_content": null,
            "align_items": null,
            "align_self": null,
            "border": null,
            "bottom": null,
            "display": null,
            "flex": null,
            "flex_flow": null,
            "grid_area": null,
            "grid_auto_columns": null,
            "grid_auto_flow": null,
            "grid_auto_rows": null,
            "grid_column": null,
            "grid_gap": null,
            "grid_row": null,
            "grid_template_areas": null,
            "grid_template_columns": null,
            "grid_template_rows": null,
            "height": null,
            "justify_content": null,
            "justify_items": null,
            "left": null,
            "margin": null,
            "max_height": null,
            "max_width": null,
            "min_height": null,
            "min_width": null,
            "object_fit": null,
            "object_position": null,
            "order": null,
            "overflow": null,
            "overflow_x": null,
            "overflow_y": null,
            "padding": null,
            "right": null,
            "top": null,
            "visibility": null,
            "width": null
          }
        },
        "5782060f13f4424a943c45d6f6db20fb": {
          "model_module": "@jupyter-widgets/base",
          "model_name": "LayoutModel",
          "model_module_version": "1.2.0",
          "state": {
            "_model_module": "@jupyter-widgets/base",
            "_model_module_version": "1.2.0",
            "_model_name": "LayoutModel",
            "_view_count": null,
            "_view_module": "@jupyter-widgets/base",
            "_view_module_version": "1.2.0",
            "_view_name": "LayoutView",
            "align_content": null,
            "align_items": null,
            "align_self": null,
            "border": null,
            "bottom": null,
            "display": null,
            "flex": null,
            "flex_flow": null,
            "grid_area": null,
            "grid_auto_columns": null,
            "grid_auto_flow": null,
            "grid_auto_rows": null,
            "grid_column": null,
            "grid_gap": null,
            "grid_row": null,
            "grid_template_areas": null,
            "grid_template_columns": null,
            "grid_template_rows": null,
            "height": null,
            "justify_content": null,
            "justify_items": null,
            "left": null,
            "margin": null,
            "max_height": null,
            "max_width": null,
            "min_height": null,
            "min_width": null,
            "object_fit": null,
            "object_position": null,
            "order": null,
            "overflow": null,
            "overflow_x": null,
            "overflow_y": null,
            "padding": null,
            "right": null,
            "top": null,
            "visibility": null,
            "width": null
          }
        },
        "9491897c7b344a4e9aaf5fa072a20984": {
          "model_module": "@jupyter-widgets/controls",
          "model_name": "DescriptionStyleModel",
          "model_module_version": "1.5.0",
          "state": {
            "_model_module": "@jupyter-widgets/controls",
            "_model_module_version": "1.5.0",
            "_model_name": "DescriptionStyleModel",
            "_view_count": null,
            "_view_module": "@jupyter-widgets/base",
            "_view_module_version": "1.2.0",
            "_view_name": "StyleView",
            "description_width": ""
          }
        },
        "bf8958a9c4e5459ea4f4c1369ed353f3": {
          "model_module": "@jupyter-widgets/base",
          "model_name": "LayoutModel",
          "model_module_version": "1.2.0",
          "state": {
            "_model_module": "@jupyter-widgets/base",
            "_model_module_version": "1.2.0",
            "_model_name": "LayoutModel",
            "_view_count": null,
            "_view_module": "@jupyter-widgets/base",
            "_view_module_version": "1.2.0",
            "_view_name": "LayoutView",
            "align_content": null,
            "align_items": null,
            "align_self": null,
            "border": null,
            "bottom": null,
            "display": null,
            "flex": null,
            "flex_flow": null,
            "grid_area": null,
            "grid_auto_columns": null,
            "grid_auto_flow": null,
            "grid_auto_rows": null,
            "grid_column": null,
            "grid_gap": null,
            "grid_row": null,
            "grid_template_areas": null,
            "grid_template_columns": null,
            "grid_template_rows": null,
            "height": null,
            "justify_content": null,
            "justify_items": null,
            "left": null,
            "margin": null,
            "max_height": null,
            "max_width": null,
            "min_height": null,
            "min_width": null,
            "object_fit": null,
            "object_position": null,
            "order": null,
            "overflow": null,
            "overflow_x": null,
            "overflow_y": null,
            "padding": null,
            "right": null,
            "top": null,
            "visibility": null,
            "width": null
          }
        },
        "a33e87868f744827baf8ec600f279da4": {
          "model_module": "@jupyter-widgets/controls",
          "model_name": "ProgressStyleModel",
          "model_module_version": "1.5.0",
          "state": {
            "_model_module": "@jupyter-widgets/controls",
            "_model_module_version": "1.5.0",
            "_model_name": "ProgressStyleModel",
            "_view_count": null,
            "_view_module": "@jupyter-widgets/base",
            "_view_module_version": "1.2.0",
            "_view_name": "StyleView",
            "bar_color": null,
            "description_width": ""
          }
        },
        "a88d4b85fa7d4cc38e276243347e8cfa": {
          "model_module": "@jupyter-widgets/base",
          "model_name": "LayoutModel",
          "model_module_version": "1.2.0",
          "state": {
            "_model_module": "@jupyter-widgets/base",
            "_model_module_version": "1.2.0",
            "_model_name": "LayoutModel",
            "_view_count": null,
            "_view_module": "@jupyter-widgets/base",
            "_view_module_version": "1.2.0",
            "_view_name": "LayoutView",
            "align_content": null,
            "align_items": null,
            "align_self": null,
            "border": null,
            "bottom": null,
            "display": null,
            "flex": null,
            "flex_flow": null,
            "grid_area": null,
            "grid_auto_columns": null,
            "grid_auto_flow": null,
            "grid_auto_rows": null,
            "grid_column": null,
            "grid_gap": null,
            "grid_row": null,
            "grid_template_areas": null,
            "grid_template_columns": null,
            "grid_template_rows": null,
            "height": null,
            "justify_content": null,
            "justify_items": null,
            "left": null,
            "margin": null,
            "max_height": null,
            "max_width": null,
            "min_height": null,
            "min_width": null,
            "object_fit": null,
            "object_position": null,
            "order": null,
            "overflow": null,
            "overflow_x": null,
            "overflow_y": null,
            "padding": null,
            "right": null,
            "top": null,
            "visibility": null,
            "width": null
          }
        },
        "45342177bdaf4758b91eca810db95ba0": {
          "model_module": "@jupyter-widgets/controls",
          "model_name": "DescriptionStyleModel",
          "model_module_version": "1.5.0",
          "state": {
            "_model_module": "@jupyter-widgets/controls",
            "_model_module_version": "1.5.0",
            "_model_name": "DescriptionStyleModel",
            "_view_count": null,
            "_view_module": "@jupyter-widgets/base",
            "_view_module_version": "1.2.0",
            "_view_name": "StyleView",
            "description_width": ""
          }
        },
        "d690c38d587745d1ad3cdf3c99dd63c1": {
          "model_module": "@jupyter-widgets/controls",
          "model_name": "HBoxModel",
          "model_module_version": "1.5.0",
          "state": {
            "_dom_classes": [],
            "_model_module": "@jupyter-widgets/controls",
            "_model_module_version": "1.5.0",
            "_model_name": "HBoxModel",
            "_view_count": null,
            "_view_module": "@jupyter-widgets/controls",
            "_view_module_version": "1.5.0",
            "_view_name": "HBoxView",
            "box_style": "",
            "children": [
              "IPY_MODEL_c06da9198e7e4ef982e0e495f466e738",
              "IPY_MODEL_07077ed8c85a4f919cc19e070626adcd",
              "IPY_MODEL_57945213249c4b4fb63054861b236129"
            ],
            "layout": "IPY_MODEL_623dbeee018d47eea50a034032ade16c"
          }
        },
        "c06da9198e7e4ef982e0e495f466e738": {
          "model_module": "@jupyter-widgets/controls",
          "model_name": "HTMLModel",
          "model_module_version": "1.5.0",
          "state": {
            "_dom_classes": [],
            "_model_module": "@jupyter-widgets/controls",
            "_model_module_version": "1.5.0",
            "_model_name": "HTMLModel",
            "_view_count": null,
            "_view_module": "@jupyter-widgets/controls",
            "_view_module_version": "1.5.0",
            "_view_name": "HTMLView",
            "description": "",
            "description_tooltip": null,
            "layout": "IPY_MODEL_1a70f7e8b90440298df3d7cbefd502ce",
            "placeholder": "​",
            "style": "IPY_MODEL_2a0bf21c749e4be3be65a0619ccd1f5d",
            "value": "pytorch_model.bin: 100%"
          }
        },
        "07077ed8c85a4f919cc19e070626adcd": {
          "model_module": "@jupyter-widgets/controls",
          "model_name": "FloatProgressModel",
          "model_module_version": "1.5.0",
          "state": {
            "_dom_classes": [],
            "_model_module": "@jupyter-widgets/controls",
            "_model_module_version": "1.5.0",
            "_model_name": "FloatProgressModel",
            "_view_count": null,
            "_view_module": "@jupyter-widgets/controls",
            "_view_module_version": "1.5.0",
            "_view_name": "ProgressView",
            "bar_style": "success",
            "description": "",
            "description_tooltip": null,
            "layout": "IPY_MODEL_d845ffe7b6014258af1ed49d81c6e734",
            "max": 439621341,
            "min": 0,
            "orientation": "horizontal",
            "style": "IPY_MODEL_8dc405b1420642f2a7658af56c301804",
            "value": 439621341
          }
        },
        "57945213249c4b4fb63054861b236129": {
          "model_module": "@jupyter-widgets/controls",
          "model_name": "HTMLModel",
          "model_module_version": "1.5.0",
          "state": {
            "_dom_classes": [],
            "_model_module": "@jupyter-widgets/controls",
            "_model_module_version": "1.5.0",
            "_model_name": "HTMLModel",
            "_view_count": null,
            "_view_module": "@jupyter-widgets/controls",
            "_view_module_version": "1.5.0",
            "_view_name": "HTMLView",
            "description": "",
            "description_tooltip": null,
            "layout": "IPY_MODEL_b8ed882733e548cd932c9741cef12240",
            "placeholder": "​",
            "style": "IPY_MODEL_28694c24783f4293a093e843aeb471c5",
            "value": " 440M/440M [00:02&lt;00:00, 242MB/s]"
          }
        },
        "623dbeee018d47eea50a034032ade16c": {
          "model_module": "@jupyter-widgets/base",
          "model_name": "LayoutModel",
          "model_module_version": "1.2.0",
          "state": {
            "_model_module": "@jupyter-widgets/base",
            "_model_module_version": "1.2.0",
            "_model_name": "LayoutModel",
            "_view_count": null,
            "_view_module": "@jupyter-widgets/base",
            "_view_module_version": "1.2.0",
            "_view_name": "LayoutView",
            "align_content": null,
            "align_items": null,
            "align_self": null,
            "border": null,
            "bottom": null,
            "display": null,
            "flex": null,
            "flex_flow": null,
            "grid_area": null,
            "grid_auto_columns": null,
            "grid_auto_flow": null,
            "grid_auto_rows": null,
            "grid_column": null,
            "grid_gap": null,
            "grid_row": null,
            "grid_template_areas": null,
            "grid_template_columns": null,
            "grid_template_rows": null,
            "height": null,
            "justify_content": null,
            "justify_items": null,
            "left": null,
            "margin": null,
            "max_height": null,
            "max_width": null,
            "min_height": null,
            "min_width": null,
            "object_fit": null,
            "object_position": null,
            "order": null,
            "overflow": null,
            "overflow_x": null,
            "overflow_y": null,
            "padding": null,
            "right": null,
            "top": null,
            "visibility": null,
            "width": null
          }
        },
        "1a70f7e8b90440298df3d7cbefd502ce": {
          "model_module": "@jupyter-widgets/base",
          "model_name": "LayoutModel",
          "model_module_version": "1.2.0",
          "state": {
            "_model_module": "@jupyter-widgets/base",
            "_model_module_version": "1.2.0",
            "_model_name": "LayoutModel",
            "_view_count": null,
            "_view_module": "@jupyter-widgets/base",
            "_view_module_version": "1.2.0",
            "_view_name": "LayoutView",
            "align_content": null,
            "align_items": null,
            "align_self": null,
            "border": null,
            "bottom": null,
            "display": null,
            "flex": null,
            "flex_flow": null,
            "grid_area": null,
            "grid_auto_columns": null,
            "grid_auto_flow": null,
            "grid_auto_rows": null,
            "grid_column": null,
            "grid_gap": null,
            "grid_row": null,
            "grid_template_areas": null,
            "grid_template_columns": null,
            "grid_template_rows": null,
            "height": null,
            "justify_content": null,
            "justify_items": null,
            "left": null,
            "margin": null,
            "max_height": null,
            "max_width": null,
            "min_height": null,
            "min_width": null,
            "object_fit": null,
            "object_position": null,
            "order": null,
            "overflow": null,
            "overflow_x": null,
            "overflow_y": null,
            "padding": null,
            "right": null,
            "top": null,
            "visibility": null,
            "width": null
          }
        },
        "2a0bf21c749e4be3be65a0619ccd1f5d": {
          "model_module": "@jupyter-widgets/controls",
          "model_name": "DescriptionStyleModel",
          "model_module_version": "1.5.0",
          "state": {
            "_model_module": "@jupyter-widgets/controls",
            "_model_module_version": "1.5.0",
            "_model_name": "DescriptionStyleModel",
            "_view_count": null,
            "_view_module": "@jupyter-widgets/base",
            "_view_module_version": "1.2.0",
            "_view_name": "StyleView",
            "description_width": ""
          }
        },
        "d845ffe7b6014258af1ed49d81c6e734": {
          "model_module": "@jupyter-widgets/base",
          "model_name": "LayoutModel",
          "model_module_version": "1.2.0",
          "state": {
            "_model_module": "@jupyter-widgets/base",
            "_model_module_version": "1.2.0",
            "_model_name": "LayoutModel",
            "_view_count": null,
            "_view_module": "@jupyter-widgets/base",
            "_view_module_version": "1.2.0",
            "_view_name": "LayoutView",
            "align_content": null,
            "align_items": null,
            "align_self": null,
            "border": null,
            "bottom": null,
            "display": null,
            "flex": null,
            "flex_flow": null,
            "grid_area": null,
            "grid_auto_columns": null,
            "grid_auto_flow": null,
            "grid_auto_rows": null,
            "grid_column": null,
            "grid_gap": null,
            "grid_row": null,
            "grid_template_areas": null,
            "grid_template_columns": null,
            "grid_template_rows": null,
            "height": null,
            "justify_content": null,
            "justify_items": null,
            "left": null,
            "margin": null,
            "max_height": null,
            "max_width": null,
            "min_height": null,
            "min_width": null,
            "object_fit": null,
            "object_position": null,
            "order": null,
            "overflow": null,
            "overflow_x": null,
            "overflow_y": null,
            "padding": null,
            "right": null,
            "top": null,
            "visibility": null,
            "width": null
          }
        },
        "8dc405b1420642f2a7658af56c301804": {
          "model_module": "@jupyter-widgets/controls",
          "model_name": "ProgressStyleModel",
          "model_module_version": "1.5.0",
          "state": {
            "_model_module": "@jupyter-widgets/controls",
            "_model_module_version": "1.5.0",
            "_model_name": "ProgressStyleModel",
            "_view_count": null,
            "_view_module": "@jupyter-widgets/base",
            "_view_module_version": "1.2.0",
            "_view_name": "StyleView",
            "bar_color": null,
            "description_width": ""
          }
        },
        "b8ed882733e548cd932c9741cef12240": {
          "model_module": "@jupyter-widgets/base",
          "model_name": "LayoutModel",
          "model_module_version": "1.2.0",
          "state": {
            "_model_module": "@jupyter-widgets/base",
            "_model_module_version": "1.2.0",
            "_model_name": "LayoutModel",
            "_view_count": null,
            "_view_module": "@jupyter-widgets/base",
            "_view_module_version": "1.2.0",
            "_view_name": "LayoutView",
            "align_content": null,
            "align_items": null,
            "align_self": null,
            "border": null,
            "bottom": null,
            "display": null,
            "flex": null,
            "flex_flow": null,
            "grid_area": null,
            "grid_auto_columns": null,
            "grid_auto_flow": null,
            "grid_auto_rows": null,
            "grid_column": null,
            "grid_gap": null,
            "grid_row": null,
            "grid_template_areas": null,
            "grid_template_columns": null,
            "grid_template_rows": null,
            "height": null,
            "justify_content": null,
            "justify_items": null,
            "left": null,
            "margin": null,
            "max_height": null,
            "max_width": null,
            "min_height": null,
            "min_width": null,
            "object_fit": null,
            "object_position": null,
            "order": null,
            "overflow": null,
            "overflow_x": null,
            "overflow_y": null,
            "padding": null,
            "right": null,
            "top": null,
            "visibility": null,
            "width": null
          }
        },
        "28694c24783f4293a093e843aeb471c5": {
          "model_module": "@jupyter-widgets/controls",
          "model_name": "DescriptionStyleModel",
          "model_module_version": "1.5.0",
          "state": {
            "_model_module": "@jupyter-widgets/controls",
            "_model_module_version": "1.5.0",
            "_model_name": "DescriptionStyleModel",
            "_view_count": null,
            "_view_module": "@jupyter-widgets/base",
            "_view_module_version": "1.2.0",
            "_view_name": "StyleView",
            "description_width": ""
          }
        }
      }
    }
  },
  "nbformat": 4,
  "nbformat_minor": 0
}